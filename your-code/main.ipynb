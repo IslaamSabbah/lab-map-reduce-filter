{
 "cells": [
  {
   "cell_type": "markdown",
   "metadata": {},
   "source": [
    "# Before your start:\n",
    "- Read the README.md file\n",
    "- Comment as much as you can and use the resources in the README.md file\n",
    "- Happy learning!"
   ]
  },
  {
   "cell_type": "code",
   "execution_count": 72,
   "metadata": {},
   "outputs": [],
   "source": [
    "# Import reduce from functools, numpy and pandas\n",
    "from functools import reduce \n",
    "import numpy as np\n",
    "import pandas as pd"
   ]
  },
  {
   "cell_type": "markdown",
   "metadata": {},
   "source": [
    "# Challenge 1 - Mapping\n",
    "\n",
    "#### We will use the map function to clean up words in a book.\n",
    "\n",
    "In the following cell, we will read a text file containing the book The Prophet by Khalil Gibran."
   ]
  },
  {
   "cell_type": "code",
   "execution_count": 73,
   "metadata": {},
   "outputs": [],
   "source": [
    "# Run this code:\n",
    "location = '../data/58585-0.txt'\n",
    "with open(location, 'r', encoding=\"utf8\") as f:\n",
    "    prophet = f.read().split(' ')"
   ]
  },
  {
   "cell_type": "code",
   "execution_count": 74,
   "metadata": {},
   "outputs": [
    {
     "data": {
      "text/plain": "['\\ufeffThe',\n 'Project',\n 'Gutenberg',\n 'EBook',\n 'of',\n 'The',\n 'Prophet,',\n 'by',\n 'Kahlil',\n 'Gibran\\n\\nThis']"
     },
     "execution_count": 74,
     "metadata": {},
     "output_type": "execute_result"
    }
   ],
   "source": [
    "prophet[0:10]"
   ]
  },
  {
   "cell_type": "code",
   "execution_count": null,
   "metadata": {},
   "outputs": [],
   "source": []
  },
  {
   "cell_type": "markdown",
   "metadata": {},
   "source": [
    "#### Let's remove the first 568 words since they contain information about the book but are not part of the book itself. \n",
    "\n",
    "Do this by removing from `prophet` elements 0 through 567 of the list (you can also do this by keeping elements 568 through the last element)."
   ]
  },
  {
   "cell_type": "code",
   "execution_count": 75,
   "metadata": {},
   "outputs": [],
   "source": [
    "# your code here\n",
    "for i in range(568):\n",
    "    prophet.remove(prophet[i])"
   ]
  },
  {
   "cell_type": "markdown",
   "metadata": {},
   "source": [
    "If you look through the words, you will find that many words have a reference attached to them. For example, let's look at words 1 through 10."
   ]
  },
  {
   "cell_type": "code",
   "execution_count": 76,
   "metadata": {},
   "outputs": [
    {
     "data": {
      "text/plain": "['Project',\n 'EBook',\n 'Gibran\\n\\nThis',\n 'anywhere',\n 'States',\n 'other',\n 'world',\n 'almost',\n 'no',\n 'restrictions\\nwhatsoever.']"
     },
     "execution_count": 76,
     "metadata": {},
     "output_type": "execute_result"
    }
   ],
   "source": [
    "# your code here\n",
    "prophet[0:10]"
   ]
  },
  {
   "cell_type": "markdown",
   "metadata": {},
   "source": [
    "#### The next step is to create a function that will remove references. \n",
    "\n",
    "We will do this by splitting the string on the `{` character and keeping only the part before this character. Write your function below."
   ]
  },
  {
   "cell_type": "code",
   "execution_count": 77,
   "metadata": {},
   "outputs": [],
   "source": [
    "def reference(x):\n",
    "    return x.split('{')[0]\n",
    "    '''\n",
    "    Input: A string\n",
    "    Output: The string with references removed\n",
    "    \n",
    "    Example:\n",
    "    Input: 'the{7}'\n",
    "    Output: 'the'\n",
    "  '''\n",
    "    # your code here"
   ]
  },
  {
   "cell_type": "markdown",
   "metadata": {},
   "source": [
    "Now that we have our function, use the `map()` function to apply this function to our book, The Prophet. Return the resulting list to a new list called `prophet_reference`."
   ]
  },
  {
   "cell_type": "code",
   "execution_count": 78,
   "metadata": {},
   "outputs": [
    {
     "data": {
      "text/plain": "['Project',\n 'EBook',\n 'Gibran\\n\\nThis',\n 'anywhere',\n 'States',\n 'other',\n 'world',\n 'almost',\n 'no',\n 'restrictions\\nwhatsoever.',\n 'You',\n 'copy',\n 'give',\n 'away',\n 're-use',\n 'under',\n 'terms\\nof',\n 'Project',\n 'License',\n 'eBook',\n 'online',\n 'United',\n \"you'll\\nhave\",\n 'check',\n 'laws',\n 'where',\n 'you',\n 'are',\n 'before',\n 'ebook.\\n\\n\\n\\nTitle:',\n 'Prophet\\n\\nAuthor:',\n 'Gibran\\n\\nRelease',\n 'January',\n '2019',\n '#58585]\\nLast',\n 'January',\n '2018\\n\\n\\nLanguage:',\n 'set',\n 'UTF-8\\n\\n***',\n 'PROJECT',\n 'EBOOK',\n 'PROPHET',\n 'by',\n 'Widger',\n 'generously\\nprovided',\n 'by',\n \"Archive\\n\\n\\nTranscriber's\",\n 'Page',\n 'ie:',\n 'are',\n 'text',\n 'For',\n 'wishing',\n 'use',\n 'text',\n 'unencumbered\\nwith',\n 'page',\n 'numbers',\n 'file',\n 'PROPHET\\n\\nBy',\n 'Gibran\\n\\nNew',\n 'Alfred',\n 'Knopf\\n\\n1923\\n\\n_The',\n 'Illustrations',\n 'This',\n 'Reproduced',\n 'Original',\n 'By\\nThe',\n 'power',\n 'great',\n 'spiritual',\n 'else',\n 'could',\n 'have\\nbeen',\n 'universal',\n 'so',\n 'but',\n 'language',\n 'all',\n 'own?”\\n\\n--Claude',\n 'BOOKS',\n 'OF',\n 'KAHLIL',\n 'Madman.',\n 'Twenty',\n '1919\\nThe',\n '1920',\n 'Prophet.',\n '1926',\n 'of\\nMan.',\n 'Gods.',\n 'The\\nWanderer.',\n 'The',\n 'Prophet\\n1933',\n 'Poems.',\n 'Nymphs',\n 'the\\nValley.',\n 'The',\n 'Coming',\n 'Love.....................15\\n',\n 'Children.................21\\n',\n 'Eating',\n 'Drinking......27\\n',\n 'Joy',\n 'Sorrow...........33\\n',\n 'Clothes..................41\\n',\n 'Crime',\n 'Punishment.....45\\n',\n '',\n '',\n 'Freedom..................55\\n',\n '',\n '',\n '',\n '',\n '',\n '',\n '',\n '',\n '',\n 'On',\n '',\n '',\n '',\n '',\n '',\n '',\n '',\n '',\n '',\n 'On',\n 'Pain.....................60\\n',\n '',\n '',\n '',\n '',\n '',\n '',\n '',\n '',\n '',\n 'On',\n '',\n '',\n '',\n '',\n '',\n '',\n '',\n '',\n '',\n 'On',\n 'Teaching.................64\\n',\n '',\n '',\n '',\n '',\n '',\n '',\n '',\n '',\n '',\n 'On',\n '',\n '',\n '',\n '',\n '',\n '',\n '',\n '',\n '',\n 'On',\n 'Talking..................68\\n',\n '',\n '',\n '',\n '',\n '',\n '',\n '',\n '',\n '',\n 'On',\n '',\n '',\n '',\n '',\n '',\n '',\n '',\n '',\n '',\n 'On',\n 'Good',\n 'Evil............72\\n',\n '',\n '',\n '',\n '',\n '',\n '',\n '',\n '',\n '',\n 'On',\n '',\n '',\n '',\n '',\n '',\n '',\n '',\n '',\n '',\n 'On',\n 'Pleasure.................79\\n',\n '',\n '',\n '',\n '',\n '',\n '',\n '',\n '',\n '',\n 'On',\n '',\n '',\n '',\n '',\n '',\n '',\n '',\n '',\n '',\n 'On',\n 'Religion.................87\\n',\n '',\n '',\n '',\n '',\n '',\n '',\n '',\n '',\n '',\n 'On',\n '',\n '',\n '',\n '',\n '',\n '',\n '',\n '',\n '',\n 'The',\n 'Farewell................92\\n\\n\\n\\n\\nTHE',\n 'the',\n 'own\\nday,',\n 'waited',\n 'years',\n 'Orphalese',\n 'to\\nreturn',\n 'bear',\n 'back',\n 'of\\nhis',\n 'twelfth',\n 'on',\n 'seventh\\nday',\n 'Ielool,',\n 'month',\n 'reaping,',\n 'city',\n 'looked',\n 'beheld',\n 'the',\n 'the',\n 'heart',\n 'flung\\nopen,',\n 'flew',\n 'over',\n 'the',\n 'sea.\\nAnd',\n 'closed',\n 'eyes',\n 'prayed',\n 'the\\nsilences',\n 'as',\n 'descended',\n 'the',\n 'hill,',\n 'sadness\\ncame',\n 'him,',\n 'go',\n 'in',\n 'without\\nsorrow?',\n 'not',\n 'in',\n 'leave',\n 'city.',\n 'the',\n 'of',\n 'spent\\nwithin',\n 'walls,',\n 'long',\n 'the\\nnights',\n 'of',\n 'aloneness;',\n 'depart\\nfrom',\n 'pain',\n 'and',\n 'his',\n 'without\\nregret?\\n\\nToo',\n 'fragments',\n 'of',\n 'the',\n 'in',\n 'streets,',\n 'and',\n 'too',\n 'the',\n 'of',\n 'longing',\n 'walk\\nnaked',\n 'these',\n 'and',\n 'cannot\\nwithdraw',\n 'them',\n 'and\\nan',\n 'not',\n 'off',\n 'but',\n 'skin',\n 'with',\n 'own\\nhands.\\n\\nNor',\n 'is',\n 'thought',\n 'leave',\n 'me,\\nbut',\n 'a',\n 'heart',\n 'sweet',\n 'with',\n 'hunger',\n 'thirst.\\n\\n*****\\n\\nYet',\n 'cannot',\n 'longer.\\n\\nThe',\n 'all',\n 'and',\n 'embark.\\n\\nFor',\n 'stay,',\n 'the',\n 'burn',\n 'night,',\n 'is',\n 'and',\n 'be',\n 'in',\n 'a',\n 'mould.\\n\\nFain',\n 'with',\n 'all',\n 'is\\nhere.',\n 'how',\n 'I?\\n\\nA',\n 'cannot',\n 'the',\n 'and\\n',\n 'it',\n 'Alone\\nmust',\n 'it',\n 'seek',\n 'the',\n 'ether.\\n\\nAnd',\n 'and',\n 'without',\n 'his',\n 'fly',\n 'the',\n 'when',\n 'reached',\n 'the',\n 'foot',\n 'of',\n 'the\\nhill,',\n 'turned',\n 'towards',\n 'the',\n 'sea,\\nand',\n 'saw',\n 'his',\n 'ship',\n 'the\\nharbour,',\n 'and',\n 'upon',\n 'prow',\n 'the',\n 'mariners,\\nthe',\n 'of',\n 'his',\n 'own',\n 'his',\n 'cried',\n 'and',\n 'of',\n 'ancient',\n 'you',\n 'of\\nthe',\n 'often',\n 'have',\n 'you',\n 'in',\n 'dreams.\\nAnd',\n 'you',\n 'in',\n 'awakening,',\n 'dream.\\n\\nReady',\n 'I',\n 'to',\n 'go,',\n 'and',\n 'with\\nsails',\n 'set',\n 'the',\n 'I',\n 'breathe',\n 'still',\n 'only',\n 'loving',\n 'backward,\\n\\nAnd',\n 'I',\n 'shall',\n 'stand',\n 'among',\n '',\n 'sea,',\n 'mother,\\n\\nWho',\n 'are',\n 'peace',\n 'and',\n 'to',\n 'and',\n 'the',\n 'stream,\\n\\nOnly',\n 'winding',\n 'will',\n 'this',\n 'only',\n 'another',\n 'murmur',\n 'in',\n 'this',\n 'then',\n 'shall',\n 'I',\n 'to',\n 'you,',\n 'a\\nboundless',\n 'to',\n 'a',\n 'boundless',\n 'as',\n 'walked',\n 'he',\n 'saw',\n 'afar',\n 'women',\n 'and',\n 'and',\n 'towards',\n 'the',\n 'city\\ngates.\\n\\nAnd',\n 'he',\n 'heard',\n 'voices',\n 'his\\nname,',\n 'and',\n 'shouting',\n 'from',\n 'field',\n 'to',\n 'field\\ntelling',\n 'another',\n 'of',\n 'the',\n 'coming',\n 'of',\n 'he',\n 'to',\n 'the',\n 'of',\n 'be',\n 'the',\n 'day',\n 'shall',\n 'it',\n 'be',\n 'that',\n 'eve',\n 'in\\ntruth',\n 'my',\n 'dawn?\\n\\nAnd',\n 'shall',\n 'I',\n 'give',\n 'unto',\n 'him',\n 'who',\n 'has\\nleft',\n 'his',\n 'plough',\n 'in',\n 'midfurrow,',\n 'or',\n 'to\\nhim',\n 'who',\n 'has',\n 'the',\n 'of',\n '',\n 'my',\n 'heart',\n 'a\\ntree',\n 'with',\n 'that',\n 'I',\n 'may\\ngather',\n 'and',\n 'give',\n 'unto',\n 'them?\\n\\nAnd',\n 'shall',\n 'my',\n 'flow',\n 'a\\nfountain',\n 'that',\n 'I',\n 'fill',\n 'their',\n 'cups?\\n\\nAm',\n 'I',\n 'a',\n 'that',\n 'the',\n 'hand',\n 'of',\n 'the',\n 'touch',\n 'me,',\n 'or',\n 'a',\n 'flute',\n 'that',\n 'his',\n 'pass',\n 'me?\\n\\nA',\n 'of',\n 'am',\n 'and',\n 'have',\n 'I',\n 'found',\n 'in',\n 'silences',\n 'that',\n 'I\\nmay',\n 'dispense',\n 'with',\n 'confidence?\\n\\nIf',\n 'this',\n 'is',\n 'my',\n 'day',\n 'of',\n 'harvest,',\n 'in',\n 'what\\nfields',\n 'have',\n 'I',\n 'sowed',\n 'the',\n 'seed,',\n 'and',\n 'in\\nwhat',\n 'unremembered',\n 'seasons?\\n\\nIf',\n 'this',\n 'indeed',\n 'be',\n 'the',\n 'hour',\n 'in',\n 'which',\n 'I\\nlift',\n 'up',\n 'my',\n 'lantern,',\n 'it',\n 'is',\n 'not',\n 'my',\n 'flame\\nthat',\n 'shall',\n 'burn',\n 'therein.\\n\\nEmpty',\n 'and',\n 'dark',\n 'shall',\n 'I',\n 'raise',\n 'my',\n 'lantern,\\n\\nAnd',\n 'the',\n 'guardian',\n 'of',\n 'the',\n 'night',\n 'shall',\n 'fill\\nit',\n 'with',\n 'oil',\n 'and',\n 'he',\n 'shall',\n 'light',\n 'it',\n 'also.\\n\\n*****\\n\\nThese',\n 'things',\n 'he',\n 'said',\n 'in',\n 'words.',\n 'But',\n 'much\\nin',\n 'his',\n 'heart',\n 'remained',\n 'unsaid.',\n 'For',\n '',\n 'could',\n 'not',\n 'speak',\n 'his',\n 'deeper\\nsecret.\\n\\n*****\\n\\n[Illustration:',\n '0020]\\n\\nAnd',\n 'when',\n 'he',\n 'entered',\n 'into',\n 'the',\n 'city',\n 'all\\nthe',\n 'people',\n 'came',\n 'to',\n 'meet',\n 'him,',\n 'and',\n 'they\\nwere',\n 'crying',\n 'out',\n 'to',\n 'him',\n 'as',\n 'with',\n 'one\\nvoice.\\n\\nAnd',\n 'the',\n 'elders',\n 'of',\n 'the',\n 'city',\n 'stood',\n 'forth\\nand',\n 'said:\\n\\nGo',\n 'not',\n 'yet',\n 'away',\n 'from',\n 'us.\\n\\nA',\n 'noontide',\n 'have',\n 'you',\n 'been',\n 'in',\n 'our\\ntwilight,',\n 'and',\n 'your',\n 'youth',\n 'has',\n 'given',\n 'us\\ndreams',\n 'to',\n 'dream.\\n\\nNo',\n 'stranger',\n 'are',\n 'you',\n 'among',\n 'us,',\n 'nor\\na',\n 'guest,',\n 'but',\n 'our',\n 'son',\n 'and',\n 'our',\n 'dearly\\nbeloved.\\n\\nSuffer',\n 'not',\n 'yet',\n 'our',\n 'eyes',\n 'to',\n 'hunger',\n 'for\\nyour',\n 'face.\\n\\n*****\\n\\nAnd',\n 'the',\n 'priests',\n 'and',\n 'the',\n 'priestesses',\n 'said\\nunto',\n 'him:\\n\\nLet',\n 'not',\n 'the',\n 'waves',\n 'of',\n 'the',\n 'sea',\n 'separate',\n 'us\\nnow,',\n 'and',\n 'the',\n 'years',\n 'you',\n 'have',\n 'spent',\n 'in',\n 'our\\nmidst',\n 'become',\n 'a',\n 'memory.\\n\\nYou',\n 'have',\n 'walked',\n 'among',\n 'us',\n 'a',\n 'spirit,\\n',\n 'your',\n 'shadow',\n 'has',\n 'been',\n 'a',\n 'light\\nupon',\n 'our',\n 'faces.\\n\\nMuch',\n 'have',\n 'we',\n 'loved',\n 'you.',\n 'But',\n 'speechless\\nwas',\n 'our',\n 'love,',\n 'and',\n 'with',\n 'veils',\n 'has',\n 'it',\n 'been\\nveiled.\\n\\nYet',\n 'now',\n 'it',\n 'cries',\n 'aloud',\n 'unto',\n 'you,',\n 'and\\nwould',\n 'stand',\n 'revealed',\n 'before',\n 'you.\\n\\nAnd',\n 'ever',\n 'has',\n 'it',\n 'been',\n 'that',\n 'love',\n 'knows\\nnot',\n 'its',\n 'own',\n 'depth',\n 'until',\n 'the',\n 'hour',\n 'of\\nseparation.\\n\\n*****\\n\\nAnd',\n 'others',\n 'came',\n 'also',\n 'and',\n 'entreated',\n 'him.\\nBut',\n 'he',\n 'answered',\n 'them',\n 'not.',\n 'He',\n 'only',\n 'bent\\nhis',\n 'head;',\n 'and',\n 'those',\n 'who',\n 'stood',\n 'near',\n 'saw\\nhis',\n 'tears',\n 'falling',\n 'upon',\n 'his',\n 'breast.\\n\\nAnd',\n 'he',\n 'and',\n 'the',\n 'people',\n 'proceeded',\n 'towards\\nthe',\n 'great',\n 'square',\n 'before',\n 'the',\n 'temple.\\n\\nAnd',\n 'there',\n 'came',\n 'out',\n 'of',\n 'the',\n 'sanctuary',\n 'a\\nwoman',\n 'whose',\n 'name',\n 'was',\n 'Almitra.',\n 'And',\n 'she\\nwas',\n 'a',\n 'seeress.\\n\\nAnd',\n 'he',\n 'looked',\n 'upon',\n 'her',\n 'with',\n 'exceeding\\ntenderness,',\n 'for',\n 'it',\n 'was',\n 'she',\n 'who',\n 'had',\n 'first\\nsought',\n 'and',\n 'believed',\n 'in',\n 'him',\n 'when',\n 'he',\n 'had\\nbeen',\n 'but',\n 'a',\n 'day',\n 'in',\n 'their',\n 'city.',\n '',\n 'hailed',\n 'him,',\n 'saying:\\n\\nProphet',\n 'of',\n 'God,',\n 'in',\n 'quest',\n 'of',\n 'the\\nuttermost,',\n 'long',\n 'have',\n 'you',\n 'searched',\n 'the\\ndistances',\n 'for',\n 'your',\n 'ship.\\n\\nAnd',\n 'now',\n 'your',\n 'ship',\n 'has',\n 'come,',\n 'and',\n 'you',\n 'must\\nneeds',\n 'go.\\n\\nDeep',\n 'is',\n 'your',\n 'longing',\n 'for',\n 'the',\n 'land',\n 'of\\nyour',\n 'memories',\n 'and',\n 'the',\n 'dwelling',\n 'place\\nof',\n 'your',\n 'greater',\n 'desires;',\n 'and',\n 'our',\n 'love\\nwould',\n 'not',\n 'bind',\n 'you',\n 'nor',\n 'our',\n 'needs',\n 'hold\\nyou.\\n\\nYet',\n 'this',\n 'we',\n 'ask',\n 'ere',\n 'you',\n 'leave',\n 'us,',\n 'that\\nyou',\n 'speak',\n 'to',\n 'us',\n 'and',\n 'give',\n 'us',\n 'of',\n 'your\\ntruth.\\n\\nAnd',\n 'we',\n 'will',\n 'give',\n 'it',\n 'unto',\n 'our',\n 'children,\\nand',\n 'they',\n 'unto',\n 'their',\n 'children,',\n 'and',\n 'it\\nshall',\n 'not',\n 'perish.\\n\\nIn',\n 'your',\n 'aloneness',\n 'you',\n 'have',\n 'watched',\n 'with\\nour',\n 'days,',\n 'and',\n 'in',\n 'your',\n 'wakefulness',\n 'you\\nhave',\n 'listened',\n 'to',\n 'the',\n 'weeping',\n 'and',\n 'the\\nlaughter',\n 'of',\n 'our',\n 'sleep.\\n\\nNow',\n 'therefore',\n 'disclose',\n 'us',\n 'to',\n 'ourselves,\\nand',\n 'tell',\n 'us',\n 'all',\n 'that',\n 'has',\n 'been',\n 'shown\\nyou',\n 'of',\n 'that',\n 'which',\n 'is',\n 'between',\n 'birth',\n 'and\\ndeath.\\n\\n*****\\n\\nAnd',\n 'he',\n 'answered,\\n\\nPeople',\n 'of',\n 'Orphalese,',\n ...]"
     },
     "execution_count": 78,
     "metadata": {},
     "output_type": "execute_result"
    }
   ],
   "source": [
    "prophet_reference=list(map(reference,prophet))\n",
    "prophet_reference\n",
    "# your code here"
   ]
  },
  {
   "cell_type": "markdown",
   "metadata": {},
   "source": [
    "Another thing you may have noticed is that some words contain a line break. Let's write a function to split those words. Our function will return the string split on the character `\\n`. Write your function in the cell below."
   ]
  },
  {
   "cell_type": "code",
   "execution_count": 79,
   "metadata": {},
   "outputs": [],
   "source": [
    "def line_break(x):\n",
    "    return x.split('\\n')\n",
    "    '''\n",
    "    Input: A string\n",
    "    Output: A list of strings split on the line break (\\n) character\n",
    "        \n",
    "    Example:\n",
    "    Input: 'the\\nbeloved'\n",
    "    Output: ['the', 'beloved']\n",
    "    '''\n",
    "    \n",
    "    # your code here"
   ]
  },
  {
   "cell_type": "markdown",
   "metadata": {},
   "source": [
    "Apply the `line_break` function to the `prophet_reference` list. Name the new list `prophet_line`."
   ]
  },
  {
   "cell_type": "code",
   "execution_count": 80,
   "metadata": {},
   "outputs": [
    {
     "data": {
      "text/plain": "[['Project'],\n ['EBook'],\n ['Gibran', '', 'This'],\n ['anywhere'],\n ['States'],\n ['other'],\n ['world'],\n ['almost'],\n ['no'],\n ['restrictions', 'whatsoever.'],\n ['You'],\n ['copy'],\n ['give'],\n ['away'],\n ['re-use'],\n ['under'],\n ['terms', 'of'],\n ['Project'],\n ['License'],\n ['eBook'],\n ['online'],\n ['United'],\n [\"you'll\", 'have'],\n ['check'],\n ['laws'],\n ['where'],\n ['you'],\n ['are'],\n ['before'],\n ['ebook.', '', '', '', 'Title:'],\n ['Prophet', '', 'Author:'],\n ['Gibran', '', 'Release'],\n ['January'],\n ['2019'],\n ['#58585]', 'Last'],\n ['January'],\n ['2018', '', '', 'Language:'],\n ['set'],\n ['UTF-8', '', '***'],\n ['PROJECT'],\n ['EBOOK'],\n ['PROPHET'],\n ['by'],\n ['Widger'],\n ['generously', 'provided'],\n ['by'],\n ['Archive', '', '', \"Transcriber's\"],\n ['Page'],\n ['ie:'],\n ['are'],\n ['text'],\n ['For'],\n ['wishing'],\n ['use'],\n ['text'],\n ['unencumbered', 'with'],\n ['page'],\n ['numbers'],\n ['file'],\n ['PROPHET', '', 'By'],\n ['Gibran', '', 'New'],\n ['Alfred'],\n ['Knopf', '', '1923', '', '_The'],\n ['Illustrations'],\n ['This'],\n ['Reproduced'],\n ['Original'],\n ['By', 'The'],\n ['power'],\n ['great'],\n ['spiritual'],\n ['else'],\n ['could'],\n ['have', 'been'],\n ['universal'],\n ['so'],\n ['but'],\n ['language'],\n ['all'],\n ['own?”', '', '--Claude'],\n ['BOOKS'],\n ['OF'],\n ['KAHLIL'],\n ['Madman.'],\n ['Twenty'],\n ['1919', 'The'],\n ['1920'],\n ['Prophet.'],\n ['1926'],\n ['of', 'Man.'],\n ['Gods.'],\n ['The', 'Wanderer.'],\n ['The'],\n ['Prophet', '1933'],\n ['Poems.'],\n ['Nymphs'],\n ['the', 'Valley.'],\n ['The'],\n ['Coming'],\n ['Love.....................15', ''],\n ['Children.................21', ''],\n ['Eating'],\n ['Drinking......27', ''],\n ['Joy'],\n ['Sorrow...........33', ''],\n ['Clothes..................41', ''],\n ['Crime'],\n ['Punishment.....45', ''],\n [''],\n [''],\n ['Freedom..................55', ''],\n [''],\n [''],\n [''],\n [''],\n [''],\n [''],\n [''],\n [''],\n [''],\n ['On'],\n [''],\n [''],\n [''],\n [''],\n [''],\n [''],\n [''],\n [''],\n [''],\n ['On'],\n ['Pain.....................60', ''],\n [''],\n [''],\n [''],\n [''],\n [''],\n [''],\n [''],\n [''],\n [''],\n ['On'],\n [''],\n [''],\n [''],\n [''],\n [''],\n [''],\n [''],\n [''],\n [''],\n ['On'],\n ['Teaching.................64', ''],\n [''],\n [''],\n [''],\n [''],\n [''],\n [''],\n [''],\n [''],\n [''],\n ['On'],\n [''],\n [''],\n [''],\n [''],\n [''],\n [''],\n [''],\n [''],\n [''],\n ['On'],\n ['Talking..................68', ''],\n [''],\n [''],\n [''],\n [''],\n [''],\n [''],\n [''],\n [''],\n [''],\n ['On'],\n [''],\n [''],\n [''],\n [''],\n [''],\n [''],\n [''],\n [''],\n [''],\n ['On'],\n ['Good'],\n ['Evil............72', ''],\n [''],\n [''],\n [''],\n [''],\n [''],\n [''],\n [''],\n [''],\n [''],\n ['On'],\n [''],\n [''],\n [''],\n [''],\n [''],\n [''],\n [''],\n [''],\n [''],\n ['On'],\n ['Pleasure.................79', ''],\n [''],\n [''],\n [''],\n [''],\n [''],\n [''],\n [''],\n [''],\n [''],\n ['On'],\n [''],\n [''],\n [''],\n [''],\n [''],\n [''],\n [''],\n [''],\n [''],\n ['On'],\n ['Religion.................87', ''],\n [''],\n [''],\n [''],\n [''],\n [''],\n [''],\n [''],\n [''],\n [''],\n ['On'],\n [''],\n [''],\n [''],\n [''],\n [''],\n [''],\n [''],\n [''],\n [''],\n ['The'],\n ['Farewell................92', '', '', '', '', 'THE'],\n ['the'],\n ['own', 'day,'],\n ['waited'],\n ['years'],\n ['Orphalese'],\n ['to', 'return'],\n ['bear'],\n ['back'],\n ['of', 'his'],\n ['twelfth'],\n ['on'],\n ['seventh', 'day'],\n ['Ielool,'],\n ['month'],\n ['reaping,'],\n ['city'],\n ['looked'],\n ['beheld'],\n ['the'],\n ['the'],\n ['heart'],\n ['flung', 'open,'],\n ['flew'],\n ['over'],\n ['the'],\n ['sea.', 'And'],\n ['closed'],\n ['eyes'],\n ['prayed'],\n ['the', 'silences'],\n ['as'],\n ['descended'],\n ['the'],\n ['hill,'],\n ['sadness', 'came'],\n ['him,'],\n ['go'],\n ['in'],\n ['without', 'sorrow?'],\n ['not'],\n ['in'],\n ['leave'],\n ['city.'],\n ['the'],\n ['of'],\n ['spent', 'within'],\n ['walls,'],\n ['long'],\n ['the', 'nights'],\n ['of'],\n ['aloneness;'],\n ['depart', 'from'],\n ['pain'],\n ['and'],\n ['his'],\n ['without', 'regret?', '', 'Too'],\n ['fragments'],\n ['of'],\n ['the'],\n ['in'],\n ['streets,'],\n ['and'],\n ['too'],\n ['the'],\n ['of'],\n ['longing'],\n ['walk', 'naked'],\n ['these'],\n ['and'],\n ['cannot', 'withdraw'],\n ['them'],\n ['and', 'an'],\n ['not'],\n ['off'],\n ['but'],\n ['skin'],\n ['with'],\n ['own', 'hands.', '', 'Nor'],\n ['is'],\n ['thought'],\n ['leave'],\n ['me,', 'but'],\n ['a'],\n ['heart'],\n ['sweet'],\n ['with'],\n ['hunger'],\n ['thirst.', '', '*****', '', 'Yet'],\n ['cannot'],\n ['longer.', '', 'The'],\n ['all'],\n ['and'],\n ['embark.', '', 'For'],\n ['stay,'],\n ['the'],\n ['burn'],\n ['night,'],\n ['is'],\n ['and'],\n ['be'],\n ['in'],\n ['a'],\n ['mould.', '', 'Fain'],\n ['with'],\n ['all'],\n ['is', 'here.'],\n ['how'],\n ['I?', '', 'A'],\n ['cannot'],\n ['the'],\n ['and', ''],\n ['it'],\n ['Alone', 'must'],\n ['it'],\n ['seek'],\n ['the'],\n ['ether.', '', 'And'],\n ['and'],\n ['without'],\n ['his'],\n ['fly'],\n ['the'],\n ['when'],\n ['reached'],\n ['the'],\n ['foot'],\n ['of'],\n ['the', 'hill,'],\n ['turned'],\n ['towards'],\n ['the'],\n ['sea,', 'and'],\n ['saw'],\n ['his'],\n ['ship'],\n ['the', 'harbour,'],\n ['and'],\n ['upon'],\n ['prow'],\n ['the'],\n ['mariners,', 'the'],\n ['of'],\n ['his'],\n ['own'],\n ['his'],\n ['cried'],\n ['and'],\n ['of'],\n ['ancient'],\n ['you'],\n ['of', 'the'],\n ['often'],\n ['have'],\n ['you'],\n ['in'],\n ['dreams.', 'And'],\n ['you'],\n ['in'],\n ['awakening,'],\n ['dream.', '', 'Ready'],\n ['I'],\n ['to'],\n ['go,'],\n ['and'],\n ['with', 'sails'],\n ['set'],\n ['the'],\n ['I'],\n ['breathe'],\n ['still'],\n ['only'],\n ['loving'],\n ['backward,', '', 'And'],\n ['I'],\n ['shall'],\n ['stand'],\n ['among'],\n [''],\n ['sea,'],\n ['mother,', '', 'Who'],\n ['are'],\n ['peace'],\n ['and'],\n ['to'],\n ['and'],\n ['the'],\n ['stream,', '', 'Only'],\n ['winding'],\n ['will'],\n ['this'],\n ['only'],\n ['another'],\n ['murmur'],\n ['in'],\n ['this'],\n ['then'],\n ['shall'],\n ['I'],\n ['to'],\n ['you,'],\n ['a', 'boundless'],\n ['to'],\n ['a'],\n ['boundless'],\n ['as'],\n ['walked'],\n ['he'],\n ['saw'],\n ['afar'],\n ['women'],\n ['and'],\n ['and'],\n ['towards'],\n ['the'],\n ['city', 'gates.', '', 'And'],\n ['he'],\n ['heard'],\n ['voices'],\n ['his', 'name,'],\n ['and'],\n ['shouting'],\n ['from'],\n ['field'],\n ['to'],\n ['field', 'telling'],\n ['another'],\n ['of'],\n ['the'],\n ['coming'],\n ['of'],\n ['he'],\n ['to'],\n ['the'],\n ['of'],\n ['be'],\n ['the'],\n ['day'],\n ['shall'],\n ['it'],\n ['be'],\n ['that'],\n ['eve'],\n ['in', 'truth'],\n ['my'],\n ['dawn?', '', 'And'],\n ['shall'],\n ['I'],\n ['give'],\n ['unto'],\n ['him'],\n ['who'],\n ['has', 'left'],\n ['his'],\n ['plough'],\n ['in'],\n ['midfurrow,'],\n ['or'],\n ['to', 'him'],\n ['who'],\n ['has'],\n ['the'],\n ['of'],\n [''],\n ['my'],\n ['heart'],\n ['a', 'tree'],\n ['with'],\n ['that'],\n ['I'],\n ['may', 'gather'],\n ['and'],\n ['give'],\n ['unto'],\n ['them?', '', 'And'],\n ['shall'],\n ['my'],\n ['flow'],\n ['a', 'fountain'],\n ['that'],\n ['I'],\n ['fill'],\n ['their'],\n ['cups?', '', 'Am'],\n ['I'],\n ['a'],\n ['that'],\n ['the'],\n ['hand'],\n ['of'],\n ['the'],\n ['touch'],\n ['me,'],\n ['or'],\n ['a'],\n ['flute'],\n ['that'],\n ['his'],\n ['pass'],\n ['me?', '', 'A'],\n ['of'],\n ['am'],\n ['and'],\n ['have'],\n ['I'],\n ['found'],\n ['in'],\n ['silences'],\n ['that'],\n ['I', 'may'],\n ['dispense'],\n ['with'],\n ['confidence?', '', 'If'],\n ['this'],\n ['is'],\n ['my'],\n ['day'],\n ['of'],\n ['harvest,'],\n ['in'],\n ['what', 'fields'],\n ['have'],\n ['I'],\n ['sowed'],\n ['the'],\n ['seed,'],\n ['and'],\n ['in', 'what'],\n ['unremembered'],\n ['seasons?', '', 'If'],\n ['this'],\n ['indeed'],\n ['be'],\n ['the'],\n ['hour'],\n ['in'],\n ['which'],\n ['I', 'lift'],\n ['up'],\n ['my'],\n ['lantern,'],\n ['it'],\n ['is'],\n ['not'],\n ['my'],\n ['flame', 'that'],\n ['shall'],\n ['burn'],\n ['therein.', '', 'Empty'],\n ['and'],\n ['dark'],\n ['shall'],\n ['I'],\n ['raise'],\n ['my'],\n ['lantern,', '', 'And'],\n ['the'],\n ['guardian'],\n ['of'],\n ['the'],\n ['night'],\n ['shall'],\n ['fill', 'it'],\n ['with'],\n ['oil'],\n ['and'],\n ['he'],\n ['shall'],\n ['light'],\n ['it'],\n ['also.', '', '*****', '', 'These'],\n ['things'],\n ['he'],\n ['said'],\n ['in'],\n ['words.'],\n ['But'],\n ['much', 'in'],\n ['his'],\n ['heart'],\n ['remained'],\n ['unsaid.'],\n ['For'],\n [''],\n ['could'],\n ['not'],\n ['speak'],\n ['his'],\n ['deeper', 'secret.', '', '*****', '', '[Illustration:'],\n ['0020]', '', 'And'],\n ['when'],\n ['he'],\n ['entered'],\n ['into'],\n ['the'],\n ['city'],\n ['all', 'the'],\n ['people'],\n ['came'],\n ['to'],\n ['meet'],\n ['him,'],\n ['and'],\n ['they', 'were'],\n ['crying'],\n ['out'],\n ['to'],\n ['him'],\n ['as'],\n ['with'],\n ['one', 'voice.', '', 'And'],\n ['the'],\n ['elders'],\n ['of'],\n ['the'],\n ['city'],\n ['stood'],\n ['forth', 'and'],\n ['said:', '', 'Go'],\n ['not'],\n ['yet'],\n ['away'],\n ['from'],\n ['us.', '', 'A'],\n ['noontide'],\n ['have'],\n ['you'],\n ['been'],\n ['in'],\n ['our', 'twilight,'],\n ['and'],\n ['your'],\n ['youth'],\n ['has'],\n ['given'],\n ['us', 'dreams'],\n ['to'],\n ['dream.', '', 'No'],\n ['stranger'],\n ['are'],\n ['you'],\n ['among'],\n ['us,'],\n ['nor', 'a'],\n ['guest,'],\n ['but'],\n ['our'],\n ['son'],\n ['and'],\n ['our'],\n ['dearly', 'beloved.', '', 'Suffer'],\n ['not'],\n ['yet'],\n ['our'],\n ['eyes'],\n ['to'],\n ['hunger'],\n ['for', 'your'],\n ['face.', '', '*****', '', 'And'],\n ['the'],\n ['priests'],\n ['and'],\n ['the'],\n ['priestesses'],\n ['said', 'unto'],\n ['him:', '', 'Let'],\n ['not'],\n ['the'],\n ['waves'],\n ['of'],\n ['the'],\n ['sea'],\n ['separate'],\n ['us', 'now,'],\n ['and'],\n ['the'],\n ['years'],\n ['you'],\n ['have'],\n ['spent'],\n ['in'],\n ['our', 'midst'],\n ['become'],\n ['a'],\n ['memory.', '', 'You'],\n ['have'],\n ['walked'],\n ['among'],\n ['us'],\n ['a'],\n ['spirit,', ''],\n ['your'],\n ['shadow'],\n ['has'],\n ['been'],\n ['a'],\n ['light', 'upon'],\n ['our'],\n ['faces.', '', 'Much'],\n ['have'],\n ['we'],\n ['loved'],\n ['you.'],\n ['But'],\n ['speechless', 'was'],\n ['our'],\n ['love,'],\n ['and'],\n ['with'],\n ['veils'],\n ['has'],\n ['it'],\n ['been', 'veiled.', '', 'Yet'],\n ['now'],\n ['it'],\n ['cries'],\n ['aloud'],\n ['unto'],\n ['you,'],\n ['and', 'would'],\n ['stand'],\n ['revealed'],\n ['before'],\n ['you.', '', 'And'],\n ['ever'],\n ['has'],\n ['it'],\n ['been'],\n ['that'],\n ['love'],\n ['knows', 'not'],\n ['its'],\n ['own'],\n ['depth'],\n ['until'],\n ['the'],\n ['hour'],\n ['of', 'separation.', '', '*****', '', 'And'],\n ['others'],\n ['came'],\n ['also'],\n ['and'],\n ['entreated'],\n ['him.', 'But'],\n ['he'],\n ['answered'],\n ['them'],\n ['not.'],\n ['He'],\n ['only'],\n ['bent', 'his'],\n ['head;'],\n ['and'],\n ['those'],\n ['who'],\n ['stood'],\n ['near'],\n ['saw', 'his'],\n ['tears'],\n ['falling'],\n ['upon'],\n ['his'],\n ['breast.', '', 'And'],\n ['he'],\n ['and'],\n ['the'],\n ['people'],\n ['proceeded'],\n ['towards', 'the'],\n ['great'],\n ['square'],\n ['before'],\n ['the'],\n ['temple.', '', 'And'],\n ['there'],\n ['came'],\n ['out'],\n ['of'],\n ['the'],\n ['sanctuary'],\n ['a', 'woman'],\n ['whose'],\n ['name'],\n ['was'],\n ['Almitra.'],\n ['And'],\n ['she', 'was'],\n ['a'],\n ['seeress.', '', 'And'],\n ['he'],\n ['looked'],\n ['upon'],\n ['her'],\n ['with'],\n ['exceeding', 'tenderness,'],\n ['for'],\n ['it'],\n ['was'],\n ['she'],\n ['who'],\n ['had'],\n ['first', 'sought'],\n ['and'],\n ['believed'],\n ['in'],\n ['him'],\n ['when'],\n ['he'],\n ['had', 'been'],\n ['but'],\n ['a'],\n ['day'],\n ['in'],\n ['their'],\n ['city.'],\n [''],\n ['hailed'],\n ['him,'],\n ['saying:', '', 'Prophet'],\n ['of'],\n ['God,'],\n ['in'],\n ['quest'],\n ['of'],\n ['the', 'uttermost,'],\n ['long'],\n ['have'],\n ['you'],\n ['searched'],\n ['the', 'distances'],\n ['for'],\n ['your'],\n ['ship.', '', 'And'],\n ['now'],\n ['your'],\n ['ship'],\n ['has'],\n ['come,'],\n ['and'],\n ['you'],\n ['must', 'needs'],\n ['go.', '', 'Deep'],\n ['is'],\n ['your'],\n ['longing'],\n ['for'],\n ['the'],\n ['land'],\n ['of', 'your'],\n ['memories'],\n ['and'],\n ['the'],\n ['dwelling'],\n ['place', 'of'],\n ['your'],\n ['greater'],\n ['desires;'],\n ['and'],\n ['our'],\n ['love', 'would'],\n ['not'],\n ['bind'],\n ['you'],\n ['nor'],\n ['our'],\n ['needs'],\n ['hold', 'you.', '', 'Yet'],\n ['this'],\n ['we'],\n ['ask'],\n ['ere'],\n ['you'],\n ['leave'],\n ['us,'],\n ['that', 'you'],\n ['speak'],\n ['to'],\n ['us'],\n ['and'],\n ['give'],\n ['us'],\n ['of'],\n ['your', 'truth.', '', 'And'],\n ['we'],\n ['will'],\n ['give'],\n ['it'],\n ['unto'],\n ['our'],\n ['children,', 'and'],\n ['they'],\n ['unto'],\n ['their'],\n ['children,'],\n ['and'],\n ['it', 'shall'],\n ['not'],\n ['perish.', '', 'In'],\n ['your'],\n ['aloneness'],\n ['you'],\n ['have'],\n ['watched'],\n ['with', 'our'],\n ['days,'],\n ['and'],\n ['in'],\n ['your'],\n ['wakefulness'],\n ['you', 'have'],\n ['listened'],\n ['to'],\n ['the'],\n ['weeping'],\n ['and'],\n ['the', 'laughter'],\n ['of'],\n ['our'],\n ['sleep.', '', 'Now'],\n ['therefore'],\n ['disclose'],\n ['us'],\n ['to'],\n ['ourselves,', 'and'],\n ['tell'],\n ['us'],\n ['all'],\n ['that'],\n ['has'],\n ['been'],\n ['shown', 'you'],\n ['of'],\n ['that'],\n ['which'],\n ['is'],\n ['between'],\n ['birth'],\n ['and', 'death.', '', '*****', '', 'And'],\n ['he'],\n ['answered,', '', 'People'],\n ['of'],\n ['Orphalese,'],\n ...]"
     },
     "execution_count": 80,
     "metadata": {},
     "output_type": "execute_result"
    }
   ],
   "source": [
    "prophet_line=list(map(line_break,prophet_reference))\n",
    "prophet_line\n",
    "# your code here"
   ]
  },
  {
   "cell_type": "markdown",
   "metadata": {},
   "source": [
    "If you look at the elements of `prophet_line`, you will see that the function returned lists and not strings. Our list is now a list of lists. Flatten the list using list comprehension. Assign this new list to `prophet_flat`."
   ]
  },
  {
   "cell_type": "code",
   "execution_count": 81,
   "metadata": {},
   "outputs": [
    {
     "data": {
      "text/plain": "['Project',\n 'EBook',\n 'Gibran',\n '',\n 'This',\n 'anywhere',\n 'States',\n 'other',\n 'world',\n 'almost',\n 'no',\n 'restrictions',\n 'whatsoever.',\n 'You',\n 'copy',\n 'give',\n 'away',\n 're-use',\n 'under',\n 'terms',\n 'of',\n 'Project',\n 'License',\n 'eBook',\n 'online',\n 'United',\n \"you'll\",\n 'have',\n 'check',\n 'laws',\n 'where',\n 'you',\n 'are',\n 'before',\n 'ebook.',\n '',\n '',\n '',\n 'Title:',\n 'Prophet',\n '',\n 'Author:',\n 'Gibran',\n '',\n 'Release',\n 'January',\n '2019',\n '#58585]',\n 'Last',\n 'January',\n '2018',\n '',\n '',\n 'Language:',\n 'set',\n 'UTF-8',\n '',\n '***',\n 'PROJECT',\n 'EBOOK',\n 'PROPHET',\n 'by',\n 'Widger',\n 'generously',\n 'provided',\n 'by',\n 'Archive',\n '',\n '',\n \"Transcriber's\",\n 'Page',\n 'ie:',\n 'are',\n 'text',\n 'For',\n 'wishing',\n 'use',\n 'text',\n 'unencumbered',\n 'with',\n 'page',\n 'numbers',\n 'file',\n 'PROPHET',\n '',\n 'By',\n 'Gibran',\n '',\n 'New',\n 'Alfred',\n 'Knopf',\n '',\n '1923',\n '',\n '_The',\n 'Illustrations',\n 'This',\n 'Reproduced',\n 'Original',\n 'By',\n 'The',\n 'power',\n 'great',\n 'spiritual',\n 'else',\n 'could',\n 'have',\n 'been',\n 'universal',\n 'so',\n 'but',\n 'language',\n 'all',\n 'own?”',\n '',\n '--Claude',\n 'BOOKS',\n 'OF',\n 'KAHLIL',\n 'Madman.',\n 'Twenty',\n '1919',\n 'The',\n '1920',\n 'Prophet.',\n '1926',\n 'of',\n 'Man.',\n 'Gods.',\n 'The',\n 'Wanderer.',\n 'The',\n 'Prophet',\n '1933',\n 'Poems.',\n 'Nymphs',\n 'the',\n 'Valley.',\n 'The',\n 'Coming',\n 'Love.....................15',\n '',\n 'Children.................21',\n '',\n 'Eating',\n 'Drinking......27',\n '',\n 'Joy',\n 'Sorrow...........33',\n '',\n 'Clothes..................41',\n '',\n 'Crime',\n 'Punishment.....45',\n '',\n '',\n '',\n 'Freedom..................55',\n '',\n '',\n '',\n '',\n '',\n '',\n '',\n '',\n '',\n '',\n 'On',\n '',\n '',\n '',\n '',\n '',\n '',\n '',\n '',\n '',\n 'On',\n 'Pain.....................60',\n '',\n '',\n '',\n '',\n '',\n '',\n '',\n '',\n '',\n '',\n 'On',\n '',\n '',\n '',\n '',\n '',\n '',\n '',\n '',\n '',\n 'On',\n 'Teaching.................64',\n '',\n '',\n '',\n '',\n '',\n '',\n '',\n '',\n '',\n '',\n 'On',\n '',\n '',\n '',\n '',\n '',\n '',\n '',\n '',\n '',\n 'On',\n 'Talking..................68',\n '',\n '',\n '',\n '',\n '',\n '',\n '',\n '',\n '',\n '',\n 'On',\n '',\n '',\n '',\n '',\n '',\n '',\n '',\n '',\n '',\n 'On',\n 'Good',\n 'Evil............72',\n '',\n '',\n '',\n '',\n '',\n '',\n '',\n '',\n '',\n '',\n 'On',\n '',\n '',\n '',\n '',\n '',\n '',\n '',\n '',\n '',\n 'On',\n 'Pleasure.................79',\n '',\n '',\n '',\n '',\n '',\n '',\n '',\n '',\n '',\n '',\n 'On',\n '',\n '',\n '',\n '',\n '',\n '',\n '',\n '',\n '',\n 'On',\n 'Religion.................87',\n '',\n '',\n '',\n '',\n '',\n '',\n '',\n '',\n '',\n '',\n 'On',\n '',\n '',\n '',\n '',\n '',\n '',\n '',\n '',\n '',\n 'The',\n 'Farewell................92',\n '',\n '',\n '',\n '',\n 'THE',\n 'the',\n 'own',\n 'day,',\n 'waited',\n 'years',\n 'Orphalese',\n 'to',\n 'return',\n 'bear',\n 'back',\n 'of',\n 'his',\n 'twelfth',\n 'on',\n 'seventh',\n 'day',\n 'Ielool,',\n 'month',\n 'reaping,',\n 'city',\n 'looked',\n 'beheld',\n 'the',\n 'the',\n 'heart',\n 'flung',\n 'open,',\n 'flew',\n 'over',\n 'the',\n 'sea.',\n 'And',\n 'closed',\n 'eyes',\n 'prayed',\n 'the',\n 'silences',\n 'as',\n 'descended',\n 'the',\n 'hill,',\n 'sadness',\n 'came',\n 'him,',\n 'go',\n 'in',\n 'without',\n 'sorrow?',\n 'not',\n 'in',\n 'leave',\n 'city.',\n 'the',\n 'of',\n 'spent',\n 'within',\n 'walls,',\n 'long',\n 'the',\n 'nights',\n 'of',\n 'aloneness;',\n 'depart',\n 'from',\n 'pain',\n 'and',\n 'his',\n 'without',\n 'regret?',\n '',\n 'Too',\n 'fragments',\n 'of',\n 'the',\n 'in',\n 'streets,',\n 'and',\n 'too',\n 'the',\n 'of',\n 'longing',\n 'walk',\n 'naked',\n 'these',\n 'and',\n 'cannot',\n 'withdraw',\n 'them',\n 'and',\n 'an',\n 'not',\n 'off',\n 'but',\n 'skin',\n 'with',\n 'own',\n 'hands.',\n '',\n 'Nor',\n 'is',\n 'thought',\n 'leave',\n 'me,',\n 'but',\n 'a',\n 'heart',\n 'sweet',\n 'with',\n 'hunger',\n 'thirst.',\n '',\n '*****',\n '',\n 'Yet',\n 'cannot',\n 'longer.',\n '',\n 'The',\n 'all',\n 'and',\n 'embark.',\n '',\n 'For',\n 'stay,',\n 'the',\n 'burn',\n 'night,',\n 'is',\n 'and',\n 'be',\n 'in',\n 'a',\n 'mould.',\n '',\n 'Fain',\n 'with',\n 'all',\n 'is',\n 'here.',\n 'how',\n 'I?',\n '',\n 'A',\n 'cannot',\n 'the',\n 'and',\n '',\n 'it',\n 'Alone',\n 'must',\n 'it',\n 'seek',\n 'the',\n 'ether.',\n '',\n 'And',\n 'and',\n 'without',\n 'his',\n 'fly',\n 'the',\n 'when',\n 'reached',\n 'the',\n 'foot',\n 'of',\n 'the',\n 'hill,',\n 'turned',\n 'towards',\n 'the',\n 'sea,',\n 'and',\n 'saw',\n 'his',\n 'ship',\n 'the',\n 'harbour,',\n 'and',\n 'upon',\n 'prow',\n 'the',\n 'mariners,',\n 'the',\n 'of',\n 'his',\n 'own',\n 'his',\n 'cried',\n 'and',\n 'of',\n 'ancient',\n 'you',\n 'of',\n 'the',\n 'often',\n 'have',\n 'you',\n 'in',\n 'dreams.',\n 'And',\n 'you',\n 'in',\n 'awakening,',\n 'dream.',\n '',\n 'Ready',\n 'I',\n 'to',\n 'go,',\n 'and',\n 'with',\n 'sails',\n 'set',\n 'the',\n 'I',\n 'breathe',\n 'still',\n 'only',\n 'loving',\n 'backward,',\n '',\n 'And',\n 'I',\n 'shall',\n 'stand',\n 'among',\n '',\n 'sea,',\n 'mother,',\n '',\n 'Who',\n 'are',\n 'peace',\n 'and',\n 'to',\n 'and',\n 'the',\n 'stream,',\n '',\n 'Only',\n 'winding',\n 'will',\n 'this',\n 'only',\n 'another',\n 'murmur',\n 'in',\n 'this',\n 'then',\n 'shall',\n 'I',\n 'to',\n 'you,',\n 'a',\n 'boundless',\n 'to',\n 'a',\n 'boundless',\n 'as',\n 'walked',\n 'he',\n 'saw',\n 'afar',\n 'women',\n 'and',\n 'and',\n 'towards',\n 'the',\n 'city',\n 'gates.',\n '',\n 'And',\n 'he',\n 'heard',\n 'voices',\n 'his',\n 'name,',\n 'and',\n 'shouting',\n 'from',\n 'field',\n 'to',\n 'field',\n 'telling',\n 'another',\n 'of',\n 'the',\n 'coming',\n 'of',\n 'he',\n 'to',\n 'the',\n 'of',\n 'be',\n 'the',\n 'day',\n 'shall',\n 'it',\n 'be',\n 'that',\n 'eve',\n 'in',\n 'truth',\n 'my',\n 'dawn?',\n '',\n 'And',\n 'shall',\n 'I',\n 'give',\n 'unto',\n 'him',\n 'who',\n 'has',\n 'left',\n 'his',\n 'plough',\n 'in',\n 'midfurrow,',\n 'or',\n 'to',\n 'him',\n 'who',\n 'has',\n 'the',\n 'of',\n '',\n 'my',\n 'heart',\n 'a',\n 'tree',\n 'with',\n 'that',\n 'I',\n 'may',\n 'gather',\n 'and',\n 'give',\n 'unto',\n 'them?',\n '',\n 'And',\n 'shall',\n 'my',\n 'flow',\n 'a',\n 'fountain',\n 'that',\n 'I',\n 'fill',\n 'their',\n 'cups?',\n '',\n 'Am',\n 'I',\n 'a',\n 'that',\n 'the',\n 'hand',\n 'of',\n 'the',\n 'touch',\n 'me,',\n 'or',\n 'a',\n 'flute',\n 'that',\n 'his',\n 'pass',\n 'me?',\n '',\n 'A',\n 'of',\n 'am',\n 'and',\n 'have',\n 'I',\n 'found',\n 'in',\n 'silences',\n 'that',\n 'I',\n 'may',\n 'dispense',\n 'with',\n 'confidence?',\n '',\n 'If',\n 'this',\n 'is',\n 'my',\n 'day',\n 'of',\n 'harvest,',\n 'in',\n 'what',\n 'fields',\n 'have',\n 'I',\n 'sowed',\n 'the',\n 'seed,',\n 'and',\n 'in',\n 'what',\n 'unremembered',\n 'seasons?',\n '',\n 'If',\n 'this',\n 'indeed',\n 'be',\n 'the',\n 'hour',\n 'in',\n 'which',\n 'I',\n 'lift',\n 'up',\n 'my',\n 'lantern,',\n 'it',\n 'is',\n 'not',\n 'my',\n 'flame',\n 'that',\n 'shall',\n 'burn',\n 'therein.',\n '',\n 'Empty',\n 'and',\n 'dark',\n 'shall',\n 'I',\n 'raise',\n 'my',\n 'lantern,',\n '',\n 'And',\n 'the',\n 'guardian',\n 'of',\n 'the',\n 'night',\n 'shall',\n 'fill',\n 'it',\n 'with',\n 'oil',\n 'and',\n 'he',\n 'shall',\n 'light',\n 'it',\n 'also.',\n '',\n '*****',\n '',\n 'These',\n 'things',\n 'he',\n 'said',\n 'in',\n 'words.',\n 'But',\n 'much',\n 'in',\n 'his',\n 'heart',\n 'remained',\n 'unsaid.',\n 'For',\n '',\n 'could',\n 'not',\n 'speak',\n 'his',\n 'deeper',\n 'secret.',\n '',\n '*****',\n '',\n '[Illustration:',\n '0020]',\n '',\n 'And',\n 'when',\n 'he',\n 'entered',\n 'into',\n 'the',\n 'city',\n 'all',\n 'the',\n 'people',\n 'came',\n 'to',\n 'meet',\n 'him,',\n 'and',\n 'they',\n 'were',\n 'crying',\n 'out',\n 'to',\n 'him',\n 'as',\n 'with',\n 'one',\n 'voice.',\n '',\n 'And',\n 'the',\n 'elders',\n 'of',\n 'the',\n 'city',\n 'stood',\n 'forth',\n 'and',\n 'said:',\n '',\n 'Go',\n 'not',\n 'yet',\n 'away',\n 'from',\n 'us.',\n '',\n 'A',\n 'noontide',\n 'have',\n 'you',\n 'been',\n 'in',\n 'our',\n 'twilight,',\n 'and',\n 'your',\n 'youth',\n 'has',\n 'given',\n 'us',\n 'dreams',\n 'to',\n 'dream.',\n '',\n 'No',\n 'stranger',\n 'are',\n 'you',\n 'among',\n 'us,',\n 'nor',\n 'a',\n 'guest,',\n 'but',\n 'our',\n 'son',\n 'and',\n 'our',\n 'dearly',\n 'beloved.',\n '',\n 'Suffer',\n 'not',\n 'yet',\n 'our',\n 'eyes',\n 'to',\n 'hunger',\n 'for',\n 'your',\n 'face.',\n '',\n '*****',\n '',\n 'And',\n 'the',\n 'priests',\n 'and',\n 'the',\n 'priestesses',\n 'said',\n 'unto',\n 'him:',\n '',\n 'Let',\n 'not',\n 'the',\n 'waves',\n 'of',\n 'the',\n 'sea',\n 'separate',\n 'us',\n 'now,',\n 'and',\n 'the',\n 'years',\n 'you',\n 'have',\n 'spent',\n 'in',\n 'our',\n 'midst',\n 'become',\n 'a',\n 'memory.',\n '',\n 'You',\n 'have',\n 'walked',\n 'among',\n 'us',\n 'a',\n 'spirit,',\n '',\n 'your',\n 'shadow',\n 'has',\n 'been',\n 'a',\n 'light',\n 'upon',\n 'our',\n 'faces.',\n '',\n 'Much',\n 'have',\n 'we',\n 'loved',\n 'you.',\n 'But',\n 'speechless',\n 'was',\n 'our',\n 'love,',\n 'and',\n 'with',\n 'veils',\n 'has',\n 'it',\n 'been',\n 'veiled.',\n '',\n 'Yet',\n 'now',\n 'it',\n 'cries',\n 'aloud',\n 'unto',\n 'you,',\n 'and',\n 'would',\n 'stand',\n 'revealed',\n 'before',\n 'you.',\n '',\n 'And',\n 'ever',\n 'has',\n 'it',\n 'been',\n 'that',\n 'love',\n 'knows',\n 'not',\n 'its',\n 'own',\n 'depth',\n 'until',\n 'the',\n 'hour',\n 'of',\n 'separation.',\n '',\n '*****',\n ...]"
     },
     "execution_count": 81,
     "metadata": {},
     "output_type": "execute_result"
    }
   ],
   "source": [
    "# your code here\n",
    "prophet_flat=[]\n",
    "for sublist in prophet_line:\n",
    "    for item in sublist:\n",
    "        prophet_flat.append(item)\n",
    "prophet_flat"
   ]
  },
  {
   "cell_type": "markdown",
   "metadata": {},
   "source": [
    "# Challenge 2 - Filtering\n",
    "\n",
    "When printing out a few words from the book, we see that there are words that we may not want to keep if we choose to analyze the corpus of text. Below is a list of words that we would like to get rid of. Create a function that will return false if it contains a word from the list of words specified and true otherwise."
   ]
  },
  {
   "cell_type": "code",
   "execution_count": 82,
   "metadata": {},
   "outputs": [
    {
     "data": {
      "text/plain": "['Project',\n 'EBook',\n 'Gibran',\n '',\n 'This',\n 'anywhere',\n 'States',\n 'other',\n 'world',\n 'almost',\n 'no',\n 'restrictions',\n 'whatsoever.',\n 'You',\n 'copy',\n 'give',\n 'away',\n 're-use',\n 'under',\n 'terms',\n 'of',\n 'Project',\n 'License',\n 'eBook',\n 'online',\n 'United',\n \"you'll\",\n 'have',\n 'check',\n 'laws',\n 'where',\n 'you',\n 'are',\n 'before',\n 'ebook.',\n '',\n '',\n '',\n 'Title:',\n 'Prophet',\n '',\n 'Author:',\n 'Gibran',\n '',\n 'Release',\n 'January',\n '2019',\n '#58585]',\n 'Last',\n 'January',\n '2018',\n '',\n '',\n 'Language:',\n 'set',\n 'UTF-8',\n '',\n '***',\n 'PROJECT',\n 'EBOOK',\n 'PROPHET',\n 'by',\n 'Widger',\n 'generously',\n 'provided',\n 'by',\n 'Archive',\n '',\n '',\n \"Transcriber's\",\n 'Page',\n 'ie:',\n 'are',\n 'text',\n 'For',\n 'wishing',\n 'use',\n 'text',\n 'unencumbered',\n 'with',\n 'page',\n 'numbers',\n 'file',\n 'PROPHET',\n '',\n 'By',\n 'Gibran',\n '',\n 'New',\n 'Alfred',\n 'Knopf',\n '',\n '1923',\n '',\n '_The',\n 'Illustrations',\n 'This',\n 'Reproduced',\n 'Original',\n 'By',\n 'The',\n 'power',\n 'great',\n 'spiritual',\n 'else',\n 'could',\n 'have',\n 'been',\n 'universal',\n 'so',\n 'but',\n 'language',\n 'all',\n 'own?”',\n '',\n '--Claude',\n 'BOOKS',\n 'OF',\n 'KAHLIL',\n 'Madman.',\n 'Twenty',\n '1919',\n 'The',\n '1920',\n 'Prophet.',\n '1926',\n 'of',\n 'Man.',\n 'Gods.',\n 'The',\n 'Wanderer.',\n 'The',\n 'Prophet',\n '1933',\n 'Poems.',\n 'Nymphs',\n 'Valley.',\n 'The',\n 'Coming',\n 'Love.....................15',\n '',\n 'Children.................21',\n '',\n 'Eating',\n 'Drinking......27',\n '',\n 'Joy',\n 'Sorrow...........33',\n '',\n 'Clothes..................41',\n '',\n 'Crime',\n 'Punishment.....45',\n '',\n '',\n '',\n 'Freedom..................55',\n '',\n '',\n '',\n '',\n '',\n '',\n '',\n '',\n '',\n '',\n 'On',\n '',\n '',\n '',\n '',\n '',\n '',\n '',\n '',\n '',\n 'On',\n 'Pain.....................60',\n '',\n '',\n '',\n '',\n '',\n '',\n '',\n '',\n '',\n '',\n 'On',\n '',\n '',\n '',\n '',\n '',\n '',\n '',\n '',\n '',\n 'On',\n 'Teaching.................64',\n '',\n '',\n '',\n '',\n '',\n '',\n '',\n '',\n '',\n '',\n 'On',\n '',\n '',\n '',\n '',\n '',\n '',\n '',\n '',\n '',\n 'On',\n 'Talking..................68',\n '',\n '',\n '',\n '',\n '',\n '',\n '',\n '',\n '',\n '',\n 'On',\n '',\n '',\n '',\n '',\n '',\n '',\n '',\n '',\n '',\n 'On',\n 'Good',\n 'Evil............72',\n '',\n '',\n '',\n '',\n '',\n '',\n '',\n '',\n '',\n '',\n 'On',\n '',\n '',\n '',\n '',\n '',\n '',\n '',\n '',\n '',\n 'On',\n 'Pleasure.................79',\n '',\n '',\n '',\n '',\n '',\n '',\n '',\n '',\n '',\n '',\n 'On',\n '',\n '',\n '',\n '',\n '',\n '',\n '',\n '',\n '',\n 'On',\n 'Religion.................87',\n '',\n '',\n '',\n '',\n '',\n '',\n '',\n '',\n '',\n '',\n 'On',\n '',\n '',\n '',\n '',\n '',\n '',\n '',\n '',\n '',\n 'The',\n 'Farewell................92',\n '',\n '',\n '',\n '',\n 'THE',\n 'own',\n 'day,',\n 'waited',\n 'years',\n 'Orphalese',\n 'to',\n 'return',\n 'bear',\n 'back',\n 'of',\n 'his',\n 'twelfth',\n 'on',\n 'seventh',\n 'day',\n 'Ielool,',\n 'month',\n 'reaping,',\n 'city',\n 'looked',\n 'beheld',\n 'heart',\n 'flung',\n 'open,',\n 'flew',\n 'over',\n 'sea.',\n 'And',\n 'closed',\n 'eyes',\n 'prayed',\n 'silences',\n 'as',\n 'descended',\n 'hill,',\n 'sadness',\n 'came',\n 'him,',\n 'go',\n 'in',\n 'without',\n 'sorrow?',\n 'not',\n 'in',\n 'leave',\n 'city.',\n 'of',\n 'spent',\n 'within',\n 'walls,',\n 'long',\n 'nights',\n 'of',\n 'aloneness;',\n 'depart',\n 'from',\n 'pain',\n 'his',\n 'without',\n 'regret?',\n '',\n 'Too',\n 'fragments',\n 'of',\n 'in',\n 'streets,',\n 'too',\n 'of',\n 'longing',\n 'walk',\n 'naked',\n 'these',\n 'cannot',\n 'withdraw',\n 'them',\n 'not',\n 'off',\n 'but',\n 'skin',\n 'with',\n 'own',\n 'hands.',\n '',\n 'Nor',\n 'is',\n 'thought',\n 'leave',\n 'me,',\n 'but',\n 'heart',\n 'sweet',\n 'with',\n 'hunger',\n 'thirst.',\n '',\n '*****',\n '',\n 'Yet',\n 'cannot',\n 'longer.',\n '',\n 'The',\n 'all',\n 'embark.',\n '',\n 'For',\n 'stay,',\n 'burn',\n 'night,',\n 'is',\n 'be',\n 'in',\n 'mould.',\n '',\n 'Fain',\n 'with',\n 'all',\n 'is',\n 'here.',\n 'how',\n 'I?',\n '',\n 'A',\n 'cannot',\n '',\n 'it',\n 'Alone',\n 'must',\n 'it',\n 'seek',\n 'ether.',\n '',\n 'And',\n 'without',\n 'his',\n 'fly',\n 'when',\n 'reached',\n 'foot',\n 'of',\n 'hill,',\n 'turned',\n 'towards',\n 'sea,',\n 'saw',\n 'his',\n 'ship',\n 'harbour,',\n 'upon',\n 'prow',\n 'mariners,',\n 'of',\n 'his',\n 'own',\n 'his',\n 'cried',\n 'of',\n 'ancient',\n 'you',\n 'of',\n 'often',\n 'have',\n 'you',\n 'in',\n 'dreams.',\n 'And',\n 'you',\n 'in',\n 'awakening,',\n 'dream.',\n '',\n 'Ready',\n 'I',\n 'to',\n 'go,',\n 'with',\n 'sails',\n 'set',\n 'I',\n 'breathe',\n 'still',\n 'only',\n 'loving',\n 'backward,',\n '',\n 'And',\n 'I',\n 'shall',\n 'stand',\n 'among',\n '',\n 'sea,',\n 'mother,',\n '',\n 'Who',\n 'are',\n 'peace',\n 'to',\n 'stream,',\n '',\n 'Only',\n 'winding',\n 'will',\n 'this',\n 'only',\n 'another',\n 'murmur',\n 'in',\n 'this',\n 'then',\n 'shall',\n 'I',\n 'to',\n 'you,',\n 'boundless',\n 'to',\n 'boundless',\n 'as',\n 'walked',\n 'he',\n 'saw',\n 'afar',\n 'women',\n 'towards',\n 'city',\n 'gates.',\n '',\n 'And',\n 'he',\n 'heard',\n 'voices',\n 'his',\n 'name,',\n 'shouting',\n 'from',\n 'field',\n 'to',\n 'field',\n 'telling',\n 'another',\n 'of',\n 'coming',\n 'of',\n 'he',\n 'to',\n 'of',\n 'be',\n 'day',\n 'shall',\n 'it',\n 'be',\n 'that',\n 'eve',\n 'in',\n 'truth',\n 'my',\n 'dawn?',\n '',\n 'And',\n 'shall',\n 'I',\n 'give',\n 'unto',\n 'him',\n 'who',\n 'has',\n 'left',\n 'his',\n 'plough',\n 'in',\n 'midfurrow,',\n 'or',\n 'to',\n 'him',\n 'who',\n 'has',\n 'of',\n '',\n 'my',\n 'heart',\n 'tree',\n 'with',\n 'that',\n 'I',\n 'may',\n 'gather',\n 'give',\n 'unto',\n 'them?',\n '',\n 'And',\n 'shall',\n 'my',\n 'flow',\n 'fountain',\n 'that',\n 'I',\n 'fill',\n 'their',\n 'cups?',\n '',\n 'Am',\n 'I',\n 'that',\n 'hand',\n 'of',\n 'touch',\n 'me,',\n 'or',\n 'flute',\n 'that',\n 'his',\n 'pass',\n 'me?',\n '',\n 'A',\n 'of',\n 'am',\n 'have',\n 'I',\n 'found',\n 'in',\n 'silences',\n 'that',\n 'I',\n 'may',\n 'dispense',\n 'with',\n 'confidence?',\n '',\n 'If',\n 'this',\n 'is',\n 'my',\n 'day',\n 'of',\n 'harvest,',\n 'in',\n 'what',\n 'fields',\n 'have',\n 'I',\n 'sowed',\n 'seed,',\n 'in',\n 'what',\n 'unremembered',\n 'seasons?',\n '',\n 'If',\n 'this',\n 'indeed',\n 'be',\n 'hour',\n 'in',\n 'which',\n 'I',\n 'lift',\n 'up',\n 'my',\n 'lantern,',\n 'it',\n 'is',\n 'not',\n 'my',\n 'flame',\n 'that',\n 'shall',\n 'burn',\n 'therein.',\n '',\n 'Empty',\n 'dark',\n 'shall',\n 'I',\n 'raise',\n 'my',\n 'lantern,',\n '',\n 'And',\n 'guardian',\n 'of',\n 'night',\n 'shall',\n 'fill',\n 'it',\n 'with',\n 'oil',\n 'he',\n 'shall',\n 'light',\n 'it',\n 'also.',\n '',\n '*****',\n '',\n 'These',\n 'things',\n 'he',\n 'said',\n 'in',\n 'words.',\n 'But',\n 'much',\n 'in',\n 'his',\n 'heart',\n 'remained',\n 'unsaid.',\n 'For',\n '',\n 'could',\n 'not',\n 'speak',\n 'his',\n 'deeper',\n 'secret.',\n '',\n '*****',\n '',\n '[Illustration:',\n '0020]',\n '',\n 'And',\n 'when',\n 'he',\n 'entered',\n 'into',\n 'city',\n 'all',\n 'people',\n 'came',\n 'to',\n 'meet',\n 'him,',\n 'they',\n 'were',\n 'crying',\n 'out',\n 'to',\n 'him',\n 'as',\n 'with',\n 'one',\n 'voice.',\n '',\n 'And',\n 'elders',\n 'of',\n 'city',\n 'stood',\n 'forth',\n 'said:',\n '',\n 'Go',\n 'not',\n 'yet',\n 'away',\n 'from',\n 'us.',\n '',\n 'A',\n 'noontide',\n 'have',\n 'you',\n 'been',\n 'in',\n 'our',\n 'twilight,',\n 'your',\n 'youth',\n 'has',\n 'given',\n 'us',\n 'dreams',\n 'to',\n 'dream.',\n '',\n 'No',\n 'stranger',\n 'are',\n 'you',\n 'among',\n 'us,',\n 'nor',\n 'guest,',\n 'but',\n 'our',\n 'son',\n 'our',\n 'dearly',\n 'beloved.',\n '',\n 'Suffer',\n 'not',\n 'yet',\n 'our',\n 'eyes',\n 'to',\n 'hunger',\n 'for',\n 'your',\n 'face.',\n '',\n '*****',\n '',\n 'And',\n 'priests',\n 'priestesses',\n 'said',\n 'unto',\n 'him:',\n '',\n 'Let',\n 'not',\n 'waves',\n 'of',\n 'sea',\n 'separate',\n 'us',\n 'now,',\n 'years',\n 'you',\n 'have',\n 'spent',\n 'in',\n 'our',\n 'midst',\n 'become',\n 'memory.',\n '',\n 'You',\n 'have',\n 'walked',\n 'among',\n 'us',\n 'spirit,',\n '',\n 'your',\n 'shadow',\n 'has',\n 'been',\n 'light',\n 'upon',\n 'our',\n 'faces.',\n '',\n 'Much',\n 'have',\n 'we',\n 'loved',\n 'you.',\n 'But',\n 'speechless',\n 'was',\n 'our',\n 'love,',\n 'with',\n 'veils',\n 'has',\n 'it',\n 'been',\n 'veiled.',\n '',\n 'Yet',\n 'now',\n 'it',\n 'cries',\n 'aloud',\n 'unto',\n 'you,',\n 'would',\n 'stand',\n 'revealed',\n 'before',\n 'you.',\n '',\n 'And',\n 'ever',\n 'has',\n 'it',\n 'been',\n 'that',\n 'love',\n 'knows',\n 'not',\n 'its',\n 'own',\n 'depth',\n 'until',\n 'hour',\n 'of',\n 'separation.',\n '',\n '*****',\n '',\n 'And',\n 'others',\n 'came',\n 'also',\n 'entreated',\n 'him.',\n 'But',\n 'he',\n 'answered',\n 'them',\n 'not.',\n 'He',\n 'only',\n 'bent',\n 'his',\n 'head;',\n 'those',\n 'who',\n 'stood',\n 'near',\n 'saw',\n 'his',\n 'tears',\n 'falling',\n 'upon',\n 'his',\n 'breast.',\n '',\n 'And',\n 'he',\n 'people',\n 'proceeded',\n 'towards',\n 'great',\n 'square',\n 'before',\n 'temple.',\n '',\n 'And',\n 'there',\n 'came',\n 'out',\n 'of',\n 'sanctuary',\n 'woman',\n 'whose',\n 'name',\n 'was',\n 'Almitra.',\n 'And',\n 'she',\n 'was',\n 'seeress.',\n '',\n 'And',\n 'he',\n 'looked',\n 'upon',\n 'her',\n 'with',\n 'exceeding',\n 'tenderness,',\n 'for',\n 'it',\n 'was',\n 'she',\n 'who',\n 'had',\n 'first',\n 'sought',\n 'believed',\n 'in',\n 'him',\n 'when',\n 'he',\n 'had',\n 'been',\n 'but',\n 'day',\n 'in',\n 'their',\n 'city.',\n '',\n 'hailed',\n 'him,',\n 'saying:',\n '',\n ...]"
     },
     "execution_count": 82,
     "metadata": {},
     "output_type": "execute_result"
    }
   ],
   "source": [
    "def word_filter(x):\n",
    "    word_list = ['and', 'the', 'a', 'an']\n",
    "    return x not in word_list\n",
    "    '''\n",
    "    Input: A string\n",
    "    Output: True if the word is not in the specified list \n",
    "    and False if the word is in the list.\n",
    "        \n",
    "    Example:\n",
    "    word list = ['and', 'the']\n",
    "    Input: 'and'\n",
    "    Output: False\n",
    "    \n",
    "    Input: 'John'\n",
    "    Output: True\n",
    "    '''\n",
    "prophet_filter=list(filter(word_filter,prophet_flat))\n",
    "prophet_filter\n",
    "    \n",
    "    # your code here"
   ]
  },
  {
   "cell_type": "markdown",
   "metadata": {},
   "source": [
    "Use the `filter()` function to filter out the words speficied in the `word_filter()` function. Store the filtered list in the variable `prophet_filter`."
   ]
  },
  {
   "cell_type": "markdown",
   "metadata": {},
   "source": [
    "# Bonus Challenge\n",
    "\n",
    "Rewrite the `word_filter` function above to not be case sensitive."
   ]
  },
  {
   "cell_type": "code",
   "execution_count": 83,
   "metadata": {},
   "outputs": [],
   "source": [
    "#def word_filter_case(x):\n",
    "   \n",
    "#    word_list = ['and', 'the', 'a', 'an']\n",
    "#    return x not in word_list.upper() \n",
    "#    # your code here"
   ]
  },
  {
   "cell_type": "markdown",
   "metadata": {},
   "source": [
    "# Challenge 3 - Reducing\n",
    "\n",
    "#### Now that we have significantly cleaned up our text corpus, let's use the `reduce()` function to put the words back together into one long string separated by spaces. \n",
    "\n",
    "We will start by writing a function that takes two strings and concatenates them together with a space between the two strings."
   ]
  },
  {
   "cell_type": "code",
   "execution_count": 84,
   "metadata": {},
   "outputs": [],
   "source": [
    "def concat_space(a, b):\n",
    "    return a + ' ' + b\n",
    "    '''\n",
    "    Input:Two strings\n",
    "    Output: A single string separated by a space\n",
    "        \n",
    "    Example:\n",
    "    Input: 'John', 'Smith'\n",
    "    Output: 'John Smith'\n",
    "    '''   \n",
    "    # your code here"
   ]
  },
  {
   "cell_type": "markdown",
   "metadata": {},
   "source": [
    "Use the function above to reduce the text corpus in the list `prophet_filter` into a single string. Assign this new string to the variable `prophet_string`."
   ]
  },
  {
   "cell_type": "code",
   "execution_count": 85,
   "metadata": {},
   "outputs": [
    {
     "data": {
      "text/plain": "s you would bless light.  After saying these things he looked about him, he saw pilot of his ship standing by helm gazing now at full sails now at distance.  And he said:  Patient, over patient, is captain of my ship.  The wind blows, restless are sails;  Even rudder begs direction;  Yet quietly my captain awaits my silence.  And these my mariners, who have heard choir of greater sea, they too have heard me patiently.  they shall wait no longer.  I am ready.  The stream has reached sea, once more great mother holds her son against her breast.  *****  Fare you well, people of Orphalese.  This day has ended.  It is closing upon us even as water-lily upon its own tomorrow.  What was given us here we shall keep,  And if it suffices not, then again must we come together together stretch our hands unto giver.  Forget not that I shall come back to you.  A little while, my longing shall gather dust foam for another body.  A little while, moment of rest upon wind, another woman shall bear me.  Farewell to you youth I have spent with you.  It was but yesterday we met in dream.  have sung to me in my aloneness, I of your longings have built tower in sky.  But now our sleep has fled our dream is over, it is no longer dawn.  The noontide is upon us our half waking has turned to fuller day, we must part.  If in twilight of memory we should meet once more, we shall speak again together you shall sing to me deeper song.  And if our hands should meet in another dream we shall build another tower in sky.  *****  So saying he made signal to seamen, straightway they weighed anchor cast ship loose from its moorings, they moved eastward.  And cry came from people as from single heart, it rose into dusk was carried out over sea like great trumpeting.  Only Almitra was silent, gazing after  ship until it had vanished into mist.  And when all people were dispersed she still stood alone upon sea-wall, remembering in her heart his saying,  “A little while, moment of rest upon wind, another woman shall bear me.”  [Illustration: 0134]         End of Project Gutenberg EBook of The Prophet, by Kahlil Gibran  *** END OF THIS PROJECT GUTENBERG EBOOK THE PROPHET ***  ***** This file should be named 58585-0.txt or 58585-0.zip ***** This all associated files of various formats will be found in:         http://www.gutenberg.org/5/8/5/8/58585/  Produced by David Widger from page images generously provided by Internet Archive   Updated editions will replace previous one--the old editions will be renamed.  Creating works from print editions not protected by U.S. copyright law means that no one owns United States copyright in these works, so Foundation (and you!) can copy distribute it in United States without permission without paying copyright royalties. Special rules, set forth in General Terms of Use part of this license, apply to copying distributing Project Gutenberg-tm electronic works to protect PROJECT GUTENBERG-tm concept trademark. Project Gutenberg is registered trademark, may not be used if you charge for eBooks, unless you receive specific permission. If you do not charge anything for copies of this eBook, complying with rules is very easy. You may use this eBook for nearly any purpose such as creation of derivative works, reports, performances research. They may be modified printed given away--you may do practically ANYTHING in United States with eBooks not protected by U.S. copyright law. Redistribution is subject to trademark license, especially commercial redistribution.  START: FULL LICENSE  THE FULL PROJECT GUTENBERG LICENSE PLEASE READ THIS BEFORE YOU DISTRIBUTE OR USE THIS WORK  To protect Project Gutenberg-tm mission of promoting free distribution of electronic works, by using or distributing this work (or any other work associated in any way with phrase \"Project Gutenberg\"), you agree to comply with all terms of Full Project Gutenberg-tm License available with this file or online at www.gutenberg.org/license.  Section 1. General Terms of Use Redistributing Project Gutenberg-tm electronic works  1.A. By reading or using any part of this Project Gutenberg-tm electronic work, you indicate that you have read, understand, agree to accept all terms of this license intellectual property (trademark/copyright) agreement. If you do not agree to abide by all terms of this agreement, you must cease using return or destroy all copies of Project Gutenberg-tm electronic works in your possession. If you paid fee for obtaining copy of or access to Project Gutenberg-tm electronic work you do not agree to be bound by terms of this agreement, you may obtain refund from person or entity to whom you paid fee as set forth in paragraph 1.E.8.  1.B. \"Project Gutenberg\" is registered trademark. It may only be used on or associated in any way with electronic work by people who agree to be bound by terms of this agreement. There are few things that you can do with most Project Gutenberg-tm electronic works even without complying with full terms of this agreement. See paragraph 1.C below. There are lot of things you can do with Project Gutenberg-tm electronic works if you follow terms of this agreement help preserve free future access to Project Gutenberg-tm electronic works. See paragraph 1.E below.  1.C. The Project Gutenberg Literary Archive Foundation (\"the Foundation\" or PGLAF), owns compilation copyright in collection of Project Gutenberg-tm electronic works. Nearly all individual works in collection are in public domain in United States. If individual work is unprotected by copyright law in United States you are located in United States, we do not claim right to prevent you from copying, distributing, performing, displaying or creating derivative works based on work as long as all references to Project Gutenberg are removed. Of course, we hope that you will support Project Gutenberg-tm mission of promoting free access to electronic works by freely sharing Project Gutenberg-tm works in compliance with terms of this agreement for keeping Project Gutenberg-tm name associated with work. You can easily comply with terms of this agreement by keeping this work in same format with its attached full Project Gutenberg-tm License when you share it without charge with others.  1.D. The copyright laws of place where you are located also govern what you can do with this work. Copyright laws in most countries are in constant state of change. If you are outside United States, check laws of your country in addition to terms of this agreement before downloading, copying, displaying, performing, distributing or creating derivative works based on this work or any other Project Gutenberg-tm work. The Foundation makes no representations concerning copyright status of any work in any country outside United States.  1.E. Unless you have removed all references to Project Gutenberg:  1.E.1. The following sentence, with active links to, or other immediate access to, full Project Gutenberg-tm License must appear prominently whenever any copy of Project Gutenberg-tm work (any work on which phrase \"Project Gutenberg\" appears, or with which phrase \"Project Gutenberg\" is associated) is accessed, displayed, performed, viewed, copied or distributed:    This eBook is for use of anyone anywhere in United States   most other parts of world at no cost with almost no   restrictions whatsoever. You may copy it, give it away or re-use it   under terms of Project Gutenberg License included with this   eBook or online at www.gutenberg.org. If you are not located in   United States, you\\'ll have to check laws of country where you   are located before using this ebook.  1.E.2. If individual Project Gutenberg-tm electronic work is derived from texts not protected by U.S. copyright law (does not contain notice indicating that it is posted with permission of copyright holder), work can be copied distributed to anyone in United States without paying any fees or charges. If you are redistributing or providing access to work with phrase \"Project Gutenberg\" associated with or appearing on work, you must comply either with requirements of paragraphs 1.E.1 through 1.E.7 or obtain permission for use of work Project Gutenberg-tm trademark as set forth in paragraphs 1.E.8 or 1.E.9.  1.E.3. If individual Project Gutenberg-tm electronic work is posted with permission of copyright holder, your use distribution must comply with both paragraphs 1.E.1 through 1.E.7 any additional terms imposed by copyright holder. Additional terms will be linked to Project Gutenberg-tm License for all works posted with permission of copyright holder found at beginning of this work.  1.E.4. Do not unlink or detach or remove full Project Gutenberg-tm License terms from this work, or any files containing part of this work or any other work associated with Project Gutenberg-tm.  1.E.5. Do not copy, display, perform, distribute or redistribute this electronic work, or any part of this electronic work, without prominently displaying sentence set forth in paragraph 1.E.1 with active links or immediate access to full terms of Project Gutenberg-tm License.  1.E.6. You may convert to distribute this work in any binary, compressed, marked up, nonproprietary or proprietary form, including any word processing or hypertext form. However, if you provide access to or distribute copies of Project Gutenberg-tm work in format other than \"Plain Vanilla ASCII\" or other format used in official version posted on official Project Gutenberg-tm web site (www.gutenberg.org), you must, at no additional cost, fee or expense to user, provide copy, means of exporting copy, or means of obtaining copy upon request, of work in its original \"Plain Vanilla ASCII\" or other form. Any alternate format must include full Project Gutenberg-tm License as specified in paragraph 1.E.1.  1.E.7. Do not charge fee for access to, viewing, displaying, performing, copying or distributing any Project Gutenberg-tm works unless you comply with paragraph 1.E.8 or 1.E.9.  1.E.8. You may charge reasonable fee for copies of or providing access to or distributing Project Gutenberg-tm electronic works provided that  * You pay royalty fee of 20% of gross profits you derive from   use of Project Gutenberg-tm works calculated using method   you already use to calculate your applicable taxes. The fee is owed   to owner of Project Gutenberg-tm trademark, but he has   agreed to donate royalties under this paragraph to Project   Gutenberg Literary Archive Foundation. Royalty payments must be paid   within 60 days following each date on which you prepare (or are   legally required to prepare) your periodic tax returns. Royalty   payments should be clearly marked as such sent to Project   Gutenberg Literary Archive Foundation at address specified in   Section 4, \"Information about donations to Project Gutenberg   Literary Archive Foundation.\"  * You provide full refund of any money paid by user who notifies   you in writing (or by e-mail) within 30 days of receipt that s/he   does not agree to terms of full Project Gutenberg-tm   License. You must require such user to return or destroy all   copies of works possessed in physical medium discontinue   all use of all access to other copies of Project Gutenberg-tm   works.  * You provide, in accordance with paragraph 1.F.3, full refund of   any money paid for work or replacement copy, if defect in   electronic work is discovered reported to you within 90 days of   receipt of work.  * You comply with all other terms of this agreement for free   distribution of Project Gutenberg-tm works.  1.E.9. If you wish to charge fee or distribute Project Gutenberg-tm electronic work or group of works on different terms than are set forth in this agreement, you must obtain permission in writing from both Project Gutenberg Literary Archive Foundation The Project Gutenberg Trademark LLC, owner of Project Gutenberg-tm trademark. Contact Foundation as set forth in Section 3 below.  1.F.  1.F.1. Project Gutenberg volunteers employees expend considerable effort to identify, do copyright research on, transcribe proofread works not protected by U.S. copyright law in creating Project Gutenberg-tm collection. Despite these efforts, Project Gutenberg-tm electronic works, medium on which they may be stored, may contain \"Defects,\" such as, but not limited to, incomplete, inaccurate or corrupt data, transcription errors, copyright or other intellectual property infringement, defective or damaged disk or other medium, computer virus, or computer codes that damage or cannot be read by your equipment.  1.F.2. LIMITED WARRANTY, DISCLAIMER OF DAMAGES - Except for \"Right of Replacement or Refund\" described in paragraph 1.F.3, Project Gutenberg Literary Archive Foundation, owner of Project Gutenberg-tm trademark, any other party distributing Project Gutenberg-tm electronic work under this agreement, disclaim all liability to you for damages, costs expenses, including legal fees. YOU AGREE THAT YOU HAVE NO REMEDIES FOR NEGLIGENCE, STRICT LIABILITY, BREACH OF WARRANTY OR BREACH OF CONTRACT EXCEPT THOSE PROVIDED IN PARAGRAPH 1.F.3. YOU AGREE THAT THE FOUNDATION, THE TRADEMARK OWNER, AND ANY DISTRIBUTOR UNDER THIS AGREEMENT WILL NOT BE LIABLE TO YOU FOR ACTUAL, DIRECT, INDIRECT, CONSEQUENTIAL, PUNITIVE OR INCIDENTAL DAMAGES EVEN IF YOU GIVE NOTICE OF THE POSSIBILITY OF SUCH DAMAGE.  1.F.3. LIMITED RIGHT OF REPLACEMENT OR REFUND - If you discover defect in this electronic work within 90 days of receiving it, you can receive refund of money (if any) you paid for it by sending written explanation to person you received work from. If you received work on physical medium, you must return medium with your written explanation. The person or entity that provided you with defective work may elect to provide replacement copy in lieu of refund. If you received work electronically, person or entity providing it to you may choose to give you second opportunity to receive work electronically in lieu of refund. If second copy is also defective, you may demand refund in writing without further opportunities to fix problem.  1.F.4. Except for limited right of replacement or refund set forth in paragraph 1.F.3, this work is provided to you \\'AS-IS\\', WITH NO OTHER WARRANTIES OF ANY KIND, EXPRESS OR IMPLIED, INCLUDING BUT NOT LIMITED TO WARRANTIES OF MERCHANTABILITY OR FITNESS FOR ANY PURPOSE.  1.F.5. Some states do not allow disclaimers of certain implied warranties or exclusion or limitation of certain types of damages. If any disclaimer or limitation set forth in this agreement violates law of state applicable to this agreement, agreement shall be interpreted to make maximum disclaimer or limitation permitted by applicable state law. The invalidity or unenforceability of any provision of this agreement shall not void remaining provisions.  1.F.6. INDEMNITY - You agree to indemnify hold Foundation, trademark owner, any agent or employee of Foundation, anyone providing copies of Project Gutenberg-tm electronic works in accordance with this agreement, any volunteers associated with production, promotion distribution of Project Gutenberg-tm electronic works, harmless from all liability, costs expenses, including legal fees, that arise directly or indirectly from any of following which you do or cause to occur: (a) distribution of this or any Project Gutenberg-tm work, (b) alteration, modification, or additions or deletions to any Project Gutenberg-tm work, (c) any Defect you cause.  Section 2. Information about Mission of Project Gutenberg-tm  Project Gutenberg-tm is synonymous with free distribution of electronic works in formats readable by widest variety of computers including obsolete, old, middle-aged new computers. It exists because of efforts of hundreds of volunteers donations from people in all walks of life.  Volunteers financial support to provide volunteers with assistance they need are critical to reaching Project Gutenberg-tm\\'s goals ensuring that Project Gutenberg-tm collection will remain freely available for generations to come. In 2001, Project Gutenberg Literary Archive Foundation was created to provide secure permanent future for Project Gutenberg-tm future generations. To learn more about Project Gutenberg Literary Archive Foundation how your efforts donations can help, see Sections 3 4 Foundation information page at www.gutenberg.org Section 3. Information about Project Gutenberg Literary Archive Foundation  The Project Gutenberg Literary Archive Foundation is non profit 501(c)(3) educational corporation organized under laws of state of Mississippi granted tax exempt status by Internal Revenue Service. The Foundation\\'s EIN or federal tax identification number is 64-6221541. Contributions to Project Gutenberg Literary Archive Foundation are tax deductible to full extent permitted by U.S. federal laws your state\\'s laws.  The Foundation\\'s principal office is in Fairbanks, Alaska, with mailing address: PO Box 750175, Fairbanks, AK 99775, but its volunteers employees are scattered throughout numerous locations. Its business office is located at 809 North 1500 West, Salt Lake City, UT 84116, (801) 596-1887. Email contact links up to date contact information can be found at Foundation\\'s web site official page at www.gutenberg.org/contact  For additional contact information:      Dr. Gregory B. Newby     Chief Executive Director     gbnewby@pglaf.org  Section 4. Information about Donations to Project Gutenberg Literary Archive Foundation  Project Gutenberg-tm depends upon cannot survive without wide spread public support donations to carry out its mission of increasing number of public domain licensed works that can be freely distributed in machine readable form accessible by widest array of equipment including outdated equipment. Many small donations ($1 to $5,000) are particularly important to maintaining tax exempt status with IRS.  The Foundation is committed to complying with laws regulating charities charitable donations in all 50 states of United States. Compliance requirements are not uniform it takes considerable effort, much paperwork many fees to meet keep up with these requirements. We do not solicit donations in locations where we have not received written confirmation of compliance. To SEND DONATIONS or determine status of compliance for any particular state visit www.gutenberg.org/donate  While we cannot do not solicit contributions from states where we have not met solicitation requirements, we know of no prohibition against accepting unsolicited donations from donors in such states who approach us with offers to donate.  International donations are gratefully accepted, but we cannot make any statements concerning tax treatment of donations received from outside United States. U.S. laws alone swamp our small staff.  Please check Project Gutenberg Web pages for current donation methods addresses. Donations are accepted in number of other ways including checks, online payments credit card donations. To donate, please visit: www.gutenberg.org/donate  Section 5. General Information About Project Gutenberg-tm electronic works.  Professor Michael S. Hart was originator of Project Gutenberg-tm concept of library of electronic works that could be freely shared with anyone. For forty years, he produced distributed Project Gutenberg-tm eBooks with only loose network of volunteer support.  Project Gutenberg-tm eBooks are often created from several printed editions, all of which are confirmed as not protected by copyright in U.S. unless copyright notice is included. Thus, we do not necessarily keep eBooks in compliance with any particular paper edition.  Most people start at our Web site which has main PG search facility: www.gutenberg.org  This Web site includes information about Project Gutenberg-tm, including how to make donations to Project Gutenberg Literary Archive Foundation, how to help produce our new eBooks, how to subscribe to our email newsletter to hear about new eBooks.  '"
     },
     "execution_count": 85,
     "metadata": {},
     "output_type": "execute_result"
    }
   ],
   "source": [
    "# your code here\n",
    "prophet_string=\"\"\n",
    "for i in range(len(prophet_filter)):\n",
    "    prophet_string = concat_space(prophet_string,prophet_filter[i])\n",
    "prophet_string"
   ]
  },
  {
   "cell_type": "markdown",
   "metadata": {},
   "source": [
    "# Challenge 4 - Applying Functions to DataFrames\n",
    "\n",
    "#### Our next step is to use the apply function to a dataframe and transform all cells.\n",
    "\n",
    "To do this, we will connect to Ironhack's database and retrieve the data from the *pollution* database. Select the *beijing_pollution* table and retrieve its data."
   ]
  },
  {
   "cell_type": "code",
   "execution_count": 86,
   "metadata": {},
   "outputs": [],
   "source": [
    "# your code here\n",
    "poll = pd.read_csv('beijing_pollution.csv')"
   ]
  },
  {
   "cell_type": "markdown",
   "metadata": {},
   "source": [
    "Let's look at the data using the `head()` function."
   ]
  },
  {
   "cell_type": "code",
   "execution_count": 87,
   "metadata": {},
   "outputs": [
    {
     "data": {
      "text/html": "<div>\n<style scoped>\n    .dataframe tbody tr th:only-of-type {\n        vertical-align: middle;\n    }\n\n    .dataframe tbody tr th {\n        vertical-align: top;\n    }\n\n    .dataframe thead th {\n        text-align: right;\n    }\n</style>\n<table border=\"1\" class=\"dataframe\">\n  <thead>\n    <tr style=\"text-align: right;\">\n      <th></th>\n      <th>No</th>\n      <th>year</th>\n      <th>month</th>\n      <th>day</th>\n      <th>hour</th>\n      <th>pm2.5</th>\n      <th>DEWP</th>\n      <th>TEMP</th>\n      <th>PRES</th>\n      <th>cbwd</th>\n      <th>Iws</th>\n      <th>Is</th>\n      <th>Ir</th>\n    </tr>\n  </thead>\n  <tbody>\n    <tr>\n      <th>0</th>\n      <td>1</td>\n      <td>2010</td>\n      <td>1</td>\n      <td>1</td>\n      <td>0</td>\n      <td>NaN</td>\n      <td>-21</td>\n      <td>-11.0</td>\n      <td>1021.0</td>\n      <td>NW</td>\n      <td>1.79</td>\n      <td>0</td>\n      <td>0</td>\n    </tr>\n    <tr>\n      <th>1</th>\n      <td>2</td>\n      <td>2010</td>\n      <td>1</td>\n      <td>1</td>\n      <td>1</td>\n      <td>NaN</td>\n      <td>-21</td>\n      <td>-12.0</td>\n      <td>1020.0</td>\n      <td>NW</td>\n      <td>4.92</td>\n      <td>0</td>\n      <td>0</td>\n    </tr>\n    <tr>\n      <th>2</th>\n      <td>3</td>\n      <td>2010</td>\n      <td>1</td>\n      <td>1</td>\n      <td>2</td>\n      <td>NaN</td>\n      <td>-21</td>\n      <td>-11.0</td>\n      <td>1019.0</td>\n      <td>NW</td>\n      <td>6.71</td>\n      <td>0</td>\n      <td>0</td>\n    </tr>\n    <tr>\n      <th>3</th>\n      <td>4</td>\n      <td>2010</td>\n      <td>1</td>\n      <td>1</td>\n      <td>3</td>\n      <td>NaN</td>\n      <td>-21</td>\n      <td>-14.0</td>\n      <td>1019.0</td>\n      <td>NW</td>\n      <td>9.84</td>\n      <td>0</td>\n      <td>0</td>\n    </tr>\n    <tr>\n      <th>4</th>\n      <td>5</td>\n      <td>2010</td>\n      <td>1</td>\n      <td>1</td>\n      <td>4</td>\n      <td>NaN</td>\n      <td>-20</td>\n      <td>-12.0</td>\n      <td>1018.0</td>\n      <td>NW</td>\n      <td>12.97</td>\n      <td>0</td>\n      <td>0</td>\n    </tr>\n  </tbody>\n</table>\n</div>",
      "text/plain": "   No  year  month  day  hour  pm2.5  DEWP  TEMP    PRES cbwd    Iws  Is  Ir\n0   1  2010      1    1     0    NaN   -21 -11.0  1021.0   NW   1.79   0   0\n1   2  2010      1    1     1    NaN   -21 -12.0  1020.0   NW   4.92   0   0\n2   3  2010      1    1     2    NaN   -21 -11.0  1019.0   NW   6.71   0   0\n3   4  2010      1    1     3    NaN   -21 -14.0  1019.0   NW   9.84   0   0\n4   5  2010      1    1     4    NaN   -20 -12.0  1018.0   NW  12.97   0   0"
     },
     "execution_count": 87,
     "metadata": {},
     "output_type": "execute_result"
    }
   ],
   "source": [
    "poll.head()\n",
    "# your code here"
   ]
  },
  {
   "cell_type": "markdown",
   "metadata": {},
   "source": [
    "The next step is to create a function that divides a cell by 24 to produce an hourly figure. Write the function below."
   ]
  },
  {
   "cell_type": "code",
   "execution_count": 95,
   "metadata": {},
   "outputs": [
    {
     "data": {
      "text/plain": "2.0"
     },
     "execution_count": 95,
     "metadata": {},
     "output_type": "execute_result"
    }
   ],
   "source": [
    "def hourly(x):\n",
    "    return x/24\n",
    "    '''\n",
    "    Input: A numerical value\n",
    "    Output: The value divided by 24\n",
    "        \n",
    "    Example:\n",
    "    Input: 48\n",
    "    Output: 2.0\n",
    "    '''\n",
    "a=48\n",
    "hourly(a)\n",
    "    \n",
    "    # your code here"
   ]
  },
  {
   "cell_type": "markdown",
   "metadata": {},
   "source": [
    "Apply this function to the columns `Iws`, `Is`, and `Ir`. Store this new dataframe in the variable `pm25_hourly`."
   ]
  },
  {
   "cell_type": "code",
   "execution_count": 99,
   "metadata": {},
   "outputs": [
    {
     "data": {
      "text/html": "<div>\n<style scoped>\n    .dataframe tbody tr th:only-of-type {\n        vertical-align: middle;\n    }\n\n    .dataframe tbody tr th {\n        vertical-align: top;\n    }\n\n    .dataframe thead th {\n        text-align: right;\n    }\n</style>\n<table border=\"1\" class=\"dataframe\">\n  <thead>\n    <tr style=\"text-align: right;\">\n      <th></th>\n      <th>Iws</th>\n      <th>Is</th>\n      <th>Ir</th>\n    </tr>\n  </thead>\n  <tbody>\n    <tr>\n      <th>0</th>\n      <td>1.79</td>\n      <td>0</td>\n      <td>0</td>\n    </tr>\n    <tr>\n      <th>1</th>\n      <td>4.92</td>\n      <td>0</td>\n      <td>0</td>\n    </tr>\n    <tr>\n      <th>2</th>\n      <td>6.71</td>\n      <td>0</td>\n      <td>0</td>\n    </tr>\n    <tr>\n      <th>3</th>\n      <td>9.84</td>\n      <td>0</td>\n      <td>0</td>\n    </tr>\n    <tr>\n      <th>4</th>\n      <td>12.97</td>\n      <td>0</td>\n      <td>0</td>\n    </tr>\n    <tr>\n      <th>...</th>\n      <td>...</td>\n      <td>...</td>\n      <td>...</td>\n    </tr>\n    <tr>\n      <th>43819</th>\n      <td>231.97</td>\n      <td>0</td>\n      <td>0</td>\n    </tr>\n    <tr>\n      <th>43820</th>\n      <td>237.78</td>\n      <td>0</td>\n      <td>0</td>\n    </tr>\n    <tr>\n      <th>43821</th>\n      <td>242.70</td>\n      <td>0</td>\n      <td>0</td>\n    </tr>\n    <tr>\n      <th>43822</th>\n      <td>246.72</td>\n      <td>0</td>\n      <td>0</td>\n    </tr>\n    <tr>\n      <th>43823</th>\n      <td>249.85</td>\n      <td>0</td>\n      <td>0</td>\n    </tr>\n  </tbody>\n</table>\n<p>43824 rows × 3 columns</p>\n</div>",
      "text/plain": "          Iws  Is  Ir\n0        1.79   0   0\n1        4.92   0   0\n2        6.71   0   0\n3        9.84   0   0\n4       12.97   0   0\n...       ...  ..  ..\n43819  231.97   0   0\n43820  237.78   0   0\n43821  242.70   0   0\n43822  246.72   0   0\n43823  249.85   0   0\n\n[43824 rows x 3 columns]"
     },
     "execution_count": 99,
     "metadata": {},
     "output_type": "execute_result"
    }
   ],
   "source": [
    "# your code here\n",
    "hourly(poll[['Iws']])\n",
    "hourly(poll[['Is']])\n",
    "#Iws=hourly(poll['Iws'])\n",
    "#pm25_hourly['Iws']=Iws\n",
    "#Is=hourly(poll['Is'])\n",
    "#pm25_hourly['Is']=Is\n",
    "#Ir=hourly(poll['Ir'])\n",
    "#pm25_hourly['Ir']=Ir\n",
    "#data = np.array([Iws, Is, Ir])\n",
    "#pm25_hourly=pd.DataFrame(data=data ,columns=['Iws','Is','Ir'])\n",
    "\n",
    "pm25_hourly"
   ]
  },
  {
   "cell_type": "markdown",
   "metadata": {},
   "source": [
    "#### Our last challenge will be to create an aggregate function and apply it to a select group of columns in our dataframe.\n",
    "\n",
    "Write a function that returns the standard deviation of a column divided by the length of a column minus 1. Since we are using pandas, do not use the `len()` function. One alternative is to use `count()`. Also, use the numpy version of standard deviation."
   ]
  },
  {
   "cell_type": "code",
   "execution_count": 106,
   "metadata": {},
   "outputs": [
    {
     "ename": "AttributeError",
     "evalue": "module 'pandas' has no attribute 'x'",
     "output_type": "error",
     "traceback": [
      "\u001b[0;31m---------------------------------------------------------------------------\u001b[0m",
      "\u001b[0;31mAttributeError\u001b[0m                            Traceback (most recent call last)",
      "\u001b[0;32m<ipython-input-106-7fc3142a706b>\u001b[0m in \u001b[0;36m<module>\u001b[0;34m\u001b[0m\n\u001b[1;32m     12\u001b[0m     '''\n\u001b[1;32m     13\u001b[0m \u001b[0maa\u001b[0m\u001b[0;34m=\u001b[0m\u001b[0;34m[\u001b[0m\u001b[0;36m1\u001b[0m\u001b[0;34m,\u001b[0m\u001b[0;36m2\u001b[0m\u001b[0;34m,\u001b[0m\u001b[0;36m3\u001b[0m\u001b[0;34m,\u001b[0m\u001b[0;36m4\u001b[0m\u001b[0;34m,\u001b[0m\u001b[0;36m5\u001b[0m\u001b[0;34m]\u001b[0m\u001b[0;34m\u001b[0m\u001b[0;34m\u001b[0m\u001b[0m\n\u001b[0;32m---> 14\u001b[0;31m \u001b[0msample_sd\u001b[0m\u001b[0;34m(\u001b[0m\u001b[0maa\u001b[0m\u001b[0;34m)\u001b[0m\u001b[0;34m\u001b[0m\u001b[0;34m\u001b[0m\u001b[0m\n\u001b[0m\u001b[1;32m     15\u001b[0m     \u001b[0;31m# your code here\u001b[0m\u001b[0;34m\u001b[0m\u001b[0;34m\u001b[0m\u001b[0;34m\u001b[0m\u001b[0m\n",
      "\u001b[0;32m<ipython-input-106-7fc3142a706b>\u001b[0m in \u001b[0;36msample_sd\u001b[0;34m(x)\u001b[0m\n\u001b[1;32m      1\u001b[0m \u001b[0;32mdef\u001b[0m \u001b[0msample_sd\u001b[0m\u001b[0;34m(\u001b[0m\u001b[0mx\u001b[0m\u001b[0;34m)\u001b[0m\u001b[0;34m:\u001b[0m\u001b[0;34m\u001b[0m\u001b[0;34m\u001b[0m\u001b[0m\n\u001b[0;32m----> 2\u001b[0;31m     \u001b[0ml\u001b[0m\u001b[0;34m=\u001b[0m\u001b[0mpd\u001b[0m\u001b[0;34m.\u001b[0m\u001b[0mx\u001b[0m\u001b[0;34m.\u001b[0m\u001b[0mcount\u001b[0m\u001b[0;34m(\u001b[0m\u001b[0;34m)\u001b[0m\u001b[0;34m\u001b[0m\u001b[0;34m\u001b[0m\u001b[0m\n\u001b[0m\u001b[1;32m      3\u001b[0m     \u001b[0mst\u001b[0m\u001b[0;34m=\u001b[0m\u001b[0mnp\u001b[0m\u001b[0;34m.\u001b[0m\u001b[0mstd\u001b[0m\u001b[0;34m(\u001b[0m\u001b[0mx\u001b[0m\u001b[0;34m)\u001b[0m\u001b[0;34m\u001b[0m\u001b[0;34m\u001b[0m\u001b[0m\n\u001b[1;32m      4\u001b[0m     \u001b[0;32mreturn\u001b[0m \u001b[0mst\u001b[0m\u001b[0;34m/\u001b[0m\u001b[0ml\u001b[0m\u001b[0;34m\u001b[0m\u001b[0;34m\u001b[0m\u001b[0m\n\u001b[1;32m      5\u001b[0m     '''\n",
      "\u001b[0;32m/usr/local/lib/python3.7/site-packages/pandas/__init__.py\u001b[0m in \u001b[0;36m__getattr__\u001b[0;34m(name)\u001b[0m\n\u001b[1;32m    212\u001b[0m \u001b[0;34m\u001b[0m\u001b[0m\n\u001b[1;32m    213\u001b[0m             \u001b[0;32mreturn\u001b[0m \u001b[0mPanel\u001b[0m\u001b[0;34m\u001b[0m\u001b[0;34m\u001b[0m\u001b[0m\n\u001b[0;32m--> 214\u001b[0;31m         \u001b[0;32mraise\u001b[0m \u001b[0mAttributeError\u001b[0m\u001b[0;34m(\u001b[0m\u001b[0;34m\"module 'pandas' has no attribute '{}'\"\u001b[0m\u001b[0;34m.\u001b[0m\u001b[0mformat\u001b[0m\u001b[0;34m(\u001b[0m\u001b[0mname\u001b[0m\u001b[0;34m)\u001b[0m\u001b[0;34m)\u001b[0m\u001b[0;34m\u001b[0m\u001b[0;34m\u001b[0m\u001b[0m\n\u001b[0m\u001b[1;32m    215\u001b[0m \u001b[0;34m\u001b[0m\u001b[0m\n\u001b[1;32m    216\u001b[0m \u001b[0;34m\u001b[0m\u001b[0m\n",
      "\u001b[0;31mAttributeError\u001b[0m: module 'pandas' has no attribute 'x'"
     ]
    }
   ],
   "source": [
    "def sample_sd(x):\n",
    "    l=pd.x.count()\n",
    "    st=np.std(x)\n",
    "    return st/l\n",
    "    '''\n",
    "    Input: A Pandas series of values\n",
    "    Output: the standard deviation divided by the number of elements in the series\n",
    "        \n",
    "    Example:\n",
    "    Input: pd.Series([1,2,3,4])\n",
    "    Output: 0.3726779962\n",
    "    '''\n",
    "aa=[1,2,3,4,5]  \n",
    "sample_sd(aa)\n",
    "    # your code here"
   ]
  },
  {
   "cell_type": "code",
   "execution_count": null,
   "metadata": {},
   "outputs": [],
   "source": []
  }
 ],
 "metadata": {
  "kernelspec": {
   "display_name": "Python 3",
   "language": "python",
   "name": "python3"
  },
  "language_info": {
   "codemirror_mode": {
    "name": "ipython",
    "version": 3
   },
   "file_extension": ".py",
   "mimetype": "text/x-python",
   "name": "python",
   "nbconvert_exporter": "python",
   "pygments_lexer": "ipython3",
   "version": "3.7.2"
  }
 },
 "nbformat": 4,
 "nbformat_minor": 2
}